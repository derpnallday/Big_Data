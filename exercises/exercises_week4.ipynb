{
 "cells": [
  {
   "cell_type": "markdown",
   "metadata": {},
   "source": [
    "# Week 4: Machine learning 1"
   ]
  },
  {
   "cell_type": "markdown",
   "metadata": {
    "ExecuteTime": {
     "end_time": "2017-08-23T15:30:03.634114Z",
     "start_time": "2017-08-23T15:30:03.629294Z"
    }
   },
   "source": [
    "Machine learning is a technique for learning patterns in data that enable computers to make decisions and predictions. It's probably one of the hottest skills to master as a scientist or engineer in research or industry today. This week, we'll get an overview of what machine learning is, what it can be used for and what its limits are. Without worrying too much about what goes on behind the scenes, we will play around with a few classifiers in Python and test model performance using cross validation. The exercises today cover:\n",
    "\n",
    "* Feature representation\n",
    "* Model fitting\n",
    "* Model evaluation\n",
    "* Prediction results\n",
    "\n",
    "[**Feedback**](http://ulfaslak.com/vent)"
   ]
  },
  {
   "cell_type": "markdown",
   "metadata": {},
   "source": [
    "## Exercises"
   ]
  },
  {
   "cell_type": "markdown",
   "metadata": {},
   "source": [
    "We want to predict whether a character is a hero or a villain from information that we can extract from their markup. This is a large problem that includes some data wrangling, model fitting and a bit of evaluation. Therefore the problem is split into parts."
   ]
  },
  {
   "cell_type": "markdown",
   "metadata": {},
   "source": [
    "### Part 1: Feature representation\n",
    "In it's raw format, the data cannot be given to a machine learning algorithm. What we must do is extract features from the data and put them into a structured format. This is the same as what we did when we looked at a dog (the data) and extracted into a matrix whether it was fluffy, sad looking, etc. (the features). The feature we will extract here is **team alliances**.\n",
    "\n",
    "We can represent the team alliances of each character as a row in a matrix where each column corresponds to a particular team. That should look something like this (numbers are made up):\n",
    "\n",
    "<img src=\"http://ulfaslak.com/computational_analysis_of_big_data/exer_figures/example_boa.png\" width=\"400\"/>\n",
    "\n",
    "**Note**: The following exercises relies on the dataset you produced in Ex. 3.1.2 (character markup stored on your computer). If you didn't manage to produce the dataset [use mine](http://github.com/ulfaslak/caobd_s19/tree/master/data) and go back and complete it at a later time so that you get the most out of this session."
   ]
  },
  {
   "cell_type": "markdown",
   "metadata": {},
   "source": [
    "> **Ex.4.1.1**: Write a function called `get_alliances` that takes the name of a character and returns a list of teams that the character is allied with. Print the alliances of Iron Man.\n",
    "\n",
    "*Hint: There is a place in the character markup where you'll find the team affiliations and you want to write some code that can extract that. The affiliations are not always listed the same way so you should probably try to eyeball some of the documents to get a feel of how the formatting can look.*"
   ]
  },
  {
   "cell_type": "code",
   "execution_count": 1,
   "metadata": {
    "ExecuteTime": {
     "end_time": "2019-02-14T13:13:12.046172Z",
     "start_time": "2019-02-14T13:13:12.031246Z"
    }
   },
   "outputs": [],
   "source": [
    "import re, os\n",
    "\n",
    "def get_alliances(char, faction=None):\n",
    "    \"\"\"Return list of alliances for Marvel character.\"\"\"\n",
    "    \n",
    "    if faction is None:\n",
    "        for faction in [\"heroes\", \"ambiguous\", \"villains\"]:\n",
    "            faction_chars = [c[:-4] for c in os.listdir(\"./data/%s\" % faction)]\n",
    "            if char in faction_chars:\n",
    "                break\n",
    "    \n",
    "    # Load character markup\n",
    "    with open(\"./data/%s/%s.txt\" % (faction, char)) as fp:\n",
    "        markup = fp.read()\n",
    "\n",
    "    # Get alliance field\n",
    "    alliances_field = re.findall(r\"alliances[\\w\\W]+?\\|.+=\", markup)\n",
    "    if alliances_field == []:\n",
    "        return []\n",
    "\n",
    "    # Extract teams from alliance field\n",
    "    return [t[2:-1] for t in re.findall(r\"\\[\\[.+?[\\]\\|]\", alliances_field[0][10:])]"
   ]
  },
  {
   "cell_type": "code",
   "execution_count": 2,
   "metadata": {
    "ExecuteTime": {
     "end_time": "2019-02-14T13:13:12.350015Z",
     "start_time": "2019-02-14T13:13:12.343599Z"
    }
   },
   "outputs": [
    {
     "data": {
      "text/plain": [
       "['Avengers (comics)',\n",
       " 'United States Department of Defense',\n",
       " 'Force Works',\n",
       " 'The New Avengers (comics)',\n",
       " 'Guardians of the Galaxy (2008 team)',\n",
       " 'Illuminati (comics)',\n",
       " 'The Mighty Avengers',\n",
       " 'S.H.I.E.L.D.',\n",
       " 'Stark Industries',\n",
       " 'Stark Resilient',\n",
       " 'Thunderbolts (comics)']"
      ]
     },
     "execution_count": 2,
     "metadata": {},
     "output_type": "execute_result"
    }
   ],
   "source": [
    "get_alliances(\"Iron Man\")"
   ]
  },
  {
   "cell_type": "markdown",
   "metadata": {},
   "source": [
    "> **Ex.4.1.2**: Produce a sorted list called `all_teams` that contains all teams in the entire Marvel universe. Print the first 10."
   ]
  },
  {
   "cell_type": "code",
   "execution_count": 3,
   "metadata": {},
   "outputs": [
    {
     "name": "stdout",
     "output_type": "stream",
     "text": [
      "622\n",
      "['A-Force', 'A-Next', 'A.R.M.O.R.', 'AXIS (comics)', 'Acolytes (comics)', 'Acts of Vengeance', 'Advanced Idea Mechanics', 'Advanced Idea Mechanics#Avengers Idea Mechanics', 'Age of Apocalypse', 'Agency X']\n"
     ]
    }
   ],
   "source": [
    "all_teams=[]\n",
    "seen = set(all_teams)\n",
    "\n",
    "for faction in [\"heroes\", \"ambiguous\", \"villains\"]:\n",
    "    faction_chars = [c[:-4] for c in os.listdir(\"./data/%s\" % faction)]\n",
    "    \n",
    "    for char in faction_chars:\n",
    "        alliances = get_alliances(char)\n",
    "        \n",
    "        for team in alliances:\n",
    "            seen.add(team)\n",
    "\n",
    "for team in seen:\n",
    "    all_teams.append(team)\n",
    "\n",
    "all_teams.sort()    \n",
    "  \n",
    "print(len(all_teams))    \n",
    "print(all_teams[:10])\n"
   ]
  },
  {
   "cell_type": "markdown",
   "metadata": {},
   "source": [
    "> **Ex.4.1.3**: Write a function that takes the name of a character and returns a vector representation of the team alliances for that character. The length of the returned list will be `len(all_teams)` and have 0s in the places corresponding to teams that the character is not on, and 1s in the places corresponding to teams the character is on. Print the sum of the list returned when the input to the function is Iron man."
   ]
  },
  {
   "cell_type": "code",
   "execution_count": 4,
   "metadata": {},
   "outputs": [],
   "source": [
    "def encode_alliance(char):\n",
    "    \"\"\"returns vector of 0,1 whether char is in team\"\"\"\n",
    "    vector = []\n",
    "    alliances = get_alliances(char)\n",
    "    c = 0\n",
    "    \n",
    "    for team in all_teams:\n",
    "        if team not in alliances:\n",
    "            vector.append(0)\n",
    "        else:\n",
    "            vector.append(1)\n",
    "            c+=1\n",
    "    \n",
    "    \n",
    "    return vector, c"
   ]
  },
  {
   "cell_type": "code",
   "execution_count": 5,
   "metadata": {},
   "outputs": [
    {
     "name": "stdout",
     "output_type": "stream",
     "text": [
      "622\n",
      "11\n"
     ]
    }
   ],
   "source": [
    "im, im_vector = encode_alliance(\"Iron Man\")\n",
    "print(len(im))\n",
    "print(im_vector)"
   ]
  },
  {
   "cell_type": "markdown",
   "metadata": {
    "ExecuteTime": {
     "end_time": "2017-08-23T14:01:10.834257Z",
     "start_time": "2017-08-23T14:01:10.826472Z"
    }
   },
   "source": [
    "> **Ex. 4.1.4**: Create the team alliance matrix for the data. This is your feature matrix for the classification problem you will solve later in this exercise set. Therefore, you should also—in a seperate *target* array—store whether characters are heros (denote by 1) or villains (denote by 0). For now, skip ambiguous characters, but write your code in such a way that it won't be too hard to redo this for ambiguous characters. Skip characters that have no team alliances. Print the shapes of your matrix and target array."
   ]
  },
  {
   "cell_type": "code",
   "execution_count": 6,
   "metadata": {},
   "outputs": [],
   "source": [
    "#create matrix\n",
    "matrix = []\n",
    "target = []\n",
    "for faction in [\"heroes\", \"villains\"]:\n",
    "    faction_chars = [c[:-4] for c in os.listdir(\"./data/%s\" % faction)]\n",
    "    \n",
    "    for char in faction_chars:\n",
    "        vector, length = encode_alliance(char)\n",
    "        matrix.append(vector)\n",
    "        \n",
    "        if faction_chars == \"heroes\":\n",
    "            target.append(1)\n",
    "        else:\n",
    "            target.append(0)"
   ]
  },
  {
   "cell_type": "code",
   "execution_count": 7,
   "metadata": {
    "scrolled": true
   },
   "outputs": [
    {
     "name": "stdout",
     "output_type": "stream",
     "text": [
      "[2 4 1 ... 2 1 0]\n",
      "[ 6  6  4  1 15  1 18  1  1  1  1  5  1  4  1  1  1  1 11  2  1 19  3  0\n",
      "  6  2  4  9  5  1  4  1  1  1  4  3  1  1  1 92  1  3 25  1 22  2  2  1\n",
      "  3  1  1  1  1 10  1  9  1  6  1  1  1  2  1  1  4 37  1  1  7  1  6  1\n",
      "  1  4  7  8  2  1  1  1  0  1  1 11  9  3  1  1  6  3  1  3  1  7  2  2\n",
      "  3  1  1  1  1  0  6  4 14  0  6  6  2  2  1  1  1  4  1  2  5  1 57  1\n",
      "  1  4  2  3  4  1  1  5  1  1  1  1  1  1  1  1  7 10  4  6  1  8 26  1\n",
      "  0  2  7  1  1  4  1  0  6  7  1  4 22  2  6  1  3  4  2  0  1 14  1 12\n",
      "  0  2  3  1  6  6  1  1  1  8  1  1  1  1  2 24 14  1  2  1  1  2  5  5\n",
      "  1 14  1  3  1  1  8  1  2  5 11  1  1 11 20  1  6  2  1  0 11  2  3  3\n",
      "  3  1  3  1 38  0 19  7 31  1  1  4  5  1 16  3  3  1  1  1  4 29 16  2\n",
      "  0  2  1  1  8  1  1  8  1  1  1 11  1  1 16  1  1  9  1  1  3  1  2  5\n",
      "  1  6  5  1  2  2  2  6  1 16  1 34  3  1 14  6  1  1  1  2  3  4  2  1\n",
      " 21  0  1 22  1  3  4  3  1  3 13  1  1  1  0  2 33  1  1  7 12  1  3  1\n",
      "  2 61  1  4  8  2  7  2  1  1  1  3 10  1  4 16  1  1  1  3  1  1  2  1\n",
      "  1  1  4  2  1  1  2  3  1  7  1  1  1  3 24  5  1 37  1  0 12  1  6  1\n",
      "  5  1  9  1  6  1  1  1  7  1  1  6  1  8  1  1  1  2  1  3  2  5  2  1\n",
      "  1  1  1  8  4  1  4  1  1  4  1  5  1  1  1  1 12  1  6  7  1  4  6  4\n",
      "  5  2  2  1  1  1 11  4  1  1 12  1  2 61  1  5  4  1  2  1  1  4  2  2\n",
      "  1 19 11  1 22  2  1  6  0  3  1 15 15  1  4  1  3  1  1  7  1 34  2  1\n",
      "  9  3  1  2  7  7  5  1  1  4  1  2  4  1  2  1  1  3  3  2 10  0  5 11\n",
      "  7  1 12  1  5  2  1  1  0  1  2  2  0  1  2  6  1  2  1  2 14  0  1  1\n",
      " 17  1 21  2  2  0  1  1  2  1  3  1  1  1  3  1 56  2  1  1  1  2  1  1\n",
      "  1  2  1  5  2  1  1  1  2  6  3 11  1  8  1  7 14  2  4  0  2  5  6  6\n",
      "  3  1  1  4  1  1  1  1  4  4  3  5  4  1 19  1  1  2 19  8  1  1  5  2\n",
      "  1  1  3  3  4  1 18  9 17  8 33  1 29  6 87  4  4  1  1 12  1  1  3  5\n",
      "  6  2  1  1  0  1  1  1  2  2  1  1  1  1  1  1  1  3 12  0  9 13]\n"
     ]
    }
   ],
   "source": [
    "import numpy as np\n",
    "#index character on # of teams\n",
    "print(np.array(matrix).sum(1))\n",
    "\n",
    "#how many characters per team\n",
    "print(np.array(matrix).sum(0))"
   ]
  },
  {
   "cell_type": "markdown",
   "metadata": {},
   "source": [
    "### Part 2: Model fitting"
   ]
  },
  {
   "cell_type": "markdown",
   "metadata": {},
   "source": [
    "> **Ex. 4.2.1**: Train a classifier on all of your data and test its accuracy.\n",
    "\n",
    ">* If your team alliance matrix is `X_ta` and your target array is `y_ta` you can do this by instantiating a model like:\n",
    ">\n",
    "        from sklearn.naive_bayes import BernoulliNB\n",
    "        model = BernoulliNB()\n",
    "        model.fit(X_ta, y_ta)  # <--- This is the training/fitting/learning step\n",
    "        \n",
    "> The `BernoulliNB` is a version of the Naive Bayes classifier which associates certain features with labels and asks what the probability of a label for a data point is given its features. You are free to use any other classifier if you want. Popular ones are trees, random forests, support vector machines, feed forward neural networks, logistic regression, and the list goes on. With `sklearn`, they are just as easy to employ as the `BernoulliNB` classifier.\n",
    "\n",
    "\n",
    ">1. Test the accuracy of your model. You can use the `.predict` method on the `model` object to get predictions for a matrix of data points. Report the accuracy of your model on the same data that you trained the model on, alongside the baseline accuracy of a \"dumb\" model that only guesses for the majority class.\n",
    "\n",
    ">2. Report the precision, recall and F1 scores, with respect to the minority class (heroes). `sklearn` has implementations that you can use if you are short for time. Extra credit for doing it using only basic linear algebra operations with `numpy`, though."
   ]
  },
  {
   "cell_type": "code",
   "execution_count": null,
   "metadata": {},
   "outputs": [],
   "source": [
    "from sklearn.naive_bayes import BernoulliNB\n",
    "X_ta = matrix\n",
    "y_ta = target\n",
    "\n",
    "model = BernoulliNB()\n",
    "model.fit(X_ta, y_ta)"
   ]
  },
  {
   "cell_type": "code",
   "execution_count": null,
   "metadata": {},
   "outputs": [],
   "source": [
    "x_test = X_ta[0]\n",
    "y_test = y_ta[0]\n",
    "\n",
    "#target\n",
    "print(y_test)\n",
    "\n",
    "#prediction\n",
    "model.predict([x_test])\n",
    "\n"
   ]
  },
  {
   "cell_type": "code",
   "execution_count": null,
   "metadata": {},
   "outputs": [],
   "source": [
    "from sklearn.metrics import f1_score\n",
    "from sklearn.model_selection import cross_val_predict\n",
    "\n",
    "y_train_pred = cross_val_predict(model, X_ta, y_ta, cv=3)\n",
    "\n",
    "f1_score(y_ta,y_train_pred)"
   ]
  },
  {
   "cell_type": "code",
   "execution_count": null,
   "metadata": {},
   "outputs": [],
   "source": []
  },
  {
   "cell_type": "markdown",
   "metadata": {},
   "source": [
    "### Part 3: Model evaluation"
   ]
  },
  {
   "cell_type": "markdown",
   "metadata": {},
   "source": [
    "> **Ex. 4.3.1**: Investigate how well your model generalizes. You may have noticed that the performance seemed a little too good to be true in Ex 4.2.1.\n",
    "1. Why did you get such a high accuracy in the previous exercise?\n",
    "2. Split your data into a test and training set of equal size. Train the model only on the training set and report its accuracy and F1 scores (for both classes) on both the training and test sets.\n",
    "3. Comment on the difference you observe.\n",
    "\n",
    "> *Hint: Watch out for unbalanced class proportions! You may want to randomly reorder the rows of your datapoints and target labels so your training and test sets have the same amount of heroes and villains.*"
   ]
  },
  {
   "cell_type": "markdown",
   "metadata": {},
   "source": [
    "> **Ex. 4.3.2**: Implement cross validation. The performance of a classifier is strongly dependent on the amount of data it is trained on. In Ex. 4.3.1 you train it on only half of the data and test it on the other half. If you rerun that code multiple times, with random 50/50 partitions, you are gonna see a lot of uncertainty in performance. Cross validation solves this problem by training on a larger subset of the data and testing on a smaller one, and taking the average performance over K-folds of this process.\n",
    "1. Implement cross validation over $K=10$ folds. For each fold you must record the training and test accuracies. In the end, visualize the distributions of test- and training accuracy as histograms in the same plot. It's important that you comment on the result."
   ]
  },
  {
   "cell_type": "markdown",
   "metadata": {},
   "source": [
    "### Part 4: Predicting good vs. evil"
   ]
  },
  {
   "cell_type": "markdown",
   "metadata": {},
   "source": [
    ">**Ex. 4.4.1**: Let's put our classifier to use!\n",
    "* Retrain your model on all of your data.\n",
    "* Create a team alliance representation of the ambiguous characters\n",
    "* Use the model the estimate the probability that each character is a villain (let's call this *villainness*). You can use the `.predict_proba` method on the model to get probability estimates rather than class assignments.\n",
    "* **Visualize the \"heroness\" distribution for all ambiguous characters**. Comment on the result."
   ]
  }
 ],
 "metadata": {
  "kernelspec": {
   "display_name": "Python 3",
   "language": "python",
   "name": "python3"
  },
  "language_info": {
   "codemirror_mode": {
    "name": "ipython",
    "version": 3
   },
   "file_extension": ".py",
   "mimetype": "text/x-python",
   "name": "python",
   "nbconvert_exporter": "python",
   "pygments_lexer": "ipython3",
   "version": "3.7.4"
  },
  "nav_menu": {},
  "toc": {
   "base_numbering": 1,
   "nav_menu": {},
   "number_sections": false,
   "sideBar": true,
   "skip_h1_title": false,
   "title_cell": "Table of Contents",
   "title_sidebar": "Contents",
   "toc_cell": false,
   "toc_position": {},
   "toc_section_display": "block",
   "toc_window_display": true
  },
  "varInspector": {
   "cols": {
    "lenName": 16,
    "lenType": 16,
    "lenVar": 40
   },
   "kernels_config": {
    "python": {
     "delete_cmd_postfix": "",
     "delete_cmd_prefix": "del ",
     "library": "var_list.py",
     "varRefreshCmd": "print(var_dic_list())"
    },
    "r": {
     "delete_cmd_postfix": ") ",
     "delete_cmd_prefix": "rm(",
     "library": "var_list.r",
     "varRefreshCmd": "cat(var_dic_list()) "
    }
   },
   "types_to_exclude": [
    "module",
    "function",
    "builtin_function_or_method",
    "instance",
    "_Feature"
   ],
   "window_display": false
  }
 },
 "nbformat": 4,
 "nbformat_minor": 2
}
