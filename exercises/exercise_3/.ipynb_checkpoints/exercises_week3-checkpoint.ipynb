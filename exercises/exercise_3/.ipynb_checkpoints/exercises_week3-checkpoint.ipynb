{
 "cells": [
  {
   "cell_type": "markdown",
   "metadata": {},
   "source": [
    "# Week 3: Getting data—scraping and APIs."
   ]
  },
  {
   "cell_type": "markdown",
   "metadata": {
    "ExecuteTime": {
     "end_time": "2017-08-23T15:30:03.634114Z",
     "start_time": "2017-08-23T15:30:03.629294Z"
    }
   },
   "source": [
    "This week is about getting data from the big ol' Internet, with the Wikipedia as our guinea pig. The main task today is to retrieve the Wikipedia pages of **all Marvel characters** using the MediaWiki **API**. There are three parts to this exercise.\n",
    "\n",
    "* Learn the basics of how to retrieve data from Wiki sites using the MediaWiki API\n",
    "* Download all Marvel character Wikipedia articles\n",
    "* Explore the data\n",
    "\n",
    "The data you acquire today, you will be working with for the remainder of the course. Try to get as far as possible, structure the data nicely and write your code so that it makes sense to you in the coming weeks.\n",
    "\n",
    "Also, there's an **important practice** you should start getting used to—which matters when we grade assignments. \n",
    "1. Openly reflect on how you solve a problem. It can be code comments, or markup below/above the code cell, just as long as you share your thoughts. \n",
    "2. Comment on your results, discussing:\n",
    "    * Whether they make sense\n",
    "    * If they look somewhat as you expected, and if not, what the reasons for this difference may be\n",
    "    * What—interesting or not—insight they reveal about the given system you analyze\n",
    "    \n",
    "    *Note: of course you can't always say something profound about every little thing, so rest assured, I will only expect explanations in your assignments when *it makes sense* that there should be one.*\n",
    "\n",
    "**[Feedback](http://ulfaslak.com/vent)**"
   ]
  },
  {
   "cell_type": "markdown",
   "metadata": {},
   "source": [
    "## Exercises"
   ]
  },
  {
   "cell_type": "markdown",
   "metadata": {},
   "source": [
    "**Why use an API?** You could just go ahead and scrape the HTML from a Wikipedia page as simple as:\n",
    "\n",
    "    import requests as rq\n",
    "    rq.get(\"https://en.wikipedia.org/wiki/Batman\").text\n",
    "    \n",
    "Well... to navigate data in XML format is not always easy. Therefore, MediaWiki offers its users direct use of its API. To load the MediaWiki markup using the API, one would do something like:\n",
    "\n",
    "    rq.get(\"https://en.wikipedia.org/w/api.php?format=json&action=query&titles=Batman&prop=revisions&rvprop=content\").json()\n",
    "    \n",
    "This returns a JSON object inside which you can find all sorts of information about the page, including the latest revision of the Batman page markup."
   ]
  },
  {
   "cell_type": "markdown",
   "metadata": {},
   "source": [
    "**Helpful code to display JSON object as a tree**"
   ]
  },
  {
   "cell_type": "code",
   "execution_count": 1,
   "metadata": {
    "ExecuteTime": {
     "end_time": "2019-01-17T14:08:52.193331Z",
     "start_time": "2019-01-17T14:08:51.527889Z"
    },
    "run_control": {
     "frozen": false,
     "read_only": false
    }
   },
   "outputs": [
    {
     "name": "stdout",
     "output_type": "stream",
     "text": [
      "batchcomplete : str - 0\n",
      "warnings \n",
      "    main \n",
      "        * : str - 267\n",
      "    revisions \n",
      "        * : str - 163\n",
      "query \n",
      "    pages \n",
      "        4335 \n",
      "            pageid : int - 4\n",
      "            ns : int - 1\n",
      "            title : str - 6\n",
      "            revisions : list - 146962\n"
     ]
    }
   ],
   "source": [
    "def print_json_tree(d, indent=0):\n",
    "    \"\"\"Print tree of keys in JSON object.\n",
    "    \n",
    "    Prints the different levels of nested keys in a JSON object. When there\n",
    "    are no more dictionaries to key into, prints objects type and byte-size.\n",
    "\n",
    "    Input\n",
    "    -----\n",
    "    d : dict\n",
    "    \"\"\"\n",
    "    for key, value in d.items():\n",
    "        print('    ' * indent + str(key), end=' ')\n",
    "        if isinstance(value, dict):\n",
    "            print(); print_json_tree(value, indent+1)\n",
    "        else:\n",
    "            print(\":\", str(type(d[key])).split(\"'\")[1], \"-\", str(len(str(d[key]))))\n",
    "            \n",
    "# Example\n",
    "import requests as rq\n",
    "data = rq.get(\"https://en.wikipedia.org/w/api.php?format=json&action=query&titles=Batman&prop=revisions&rvprop=content\").json()\n",
    "print_json_tree(data)"
   ]
  },
  {
   "cell_type": "markdown",
   "metadata": {},
   "source": [
    "### Part 0: Learn to access Wikipedia data with Python"
   ]
  },
  {
   "cell_type": "markdown",
   "metadata": {},
   "source": [
    "Figure out how Wikipedia markup works. You'll need to know a bit about formatting of MediaWiki pages so that you can parse the markup that you retrieve from wikipedia. See http://www.mediawiki.org/wiki/Help:Formatting. In particular, look into how links work and how tables work and make sure you can answer the following questions."
   ]
  },
  {
   "cell_type": "markdown",
   "metadata": {},
   "source": [
    ">**Ex. 3.0.1**: How do you link to another Wikipedia page from within a Wikipedia-page, using the wikimedia markup? Write down a simple example that links to a specific section in another page.\n",
    "\n",
    "To create a so-called internal link to a page on the same wiki (a \"wikilink\"), use double square brackets wiki markup, `[[like this]]`. \n",
    "\n",
    "`[[Help:Contents]]` will link to the help page from the current page"
   ]
  },
  {
   "cell_type": "markdown",
   "metadata": {},
   "source": [
    "> **Ex. 3.0.2**: What is the MediaWiki markup to create a simple table like the one below?\n",
    "\n",
    ">| True Positive  | False Positive |\n",
    "| -------------- |:--------------:|\n",
    "| False Negative | True Negative  |\n",
    "\n",
    "\n",
    "\n",
    "`{| class=\"wikitable\"\n",
    "|+Food complements  \n",
    "|- \n",
    "|Orange \n",
    "|Apple \n",
    "|- \n",
    "|Bread \n",
    "|Pie  \n",
    "|- \n",
    "|Butter \n",
    "|Ice cream \n",
    "|} `"
   ]
  },
  {
   "cell_type": "markdown",
   "metadata": {},
   "source": [
    "> **Ex. 3.0.3**: Figure out how to download pages from Wikipedia. Familiarize yourself with [the API](http://www.mediawiki.org/wiki/API:Main_page) (there's a nice little [tutorial](https://www.mediawiki.org/wiki/API:Tutorial)) and learn how to extract the markup. The API query that returns the markup of the Batman page is:\n",
    "    \n",
    ">`api.php?format=json&action=query&titles=Batman&prop=revisions&rvprop=content`\n",
    "\n",
    ">1. Explain the structure of this query. What are the parameters and arguments and what do they mean? What happens if you remove `rvprop=content`?\n",
    "\n",
    "\n",
    "-api.php tells it to request through the api\n",
    "\n",
    "-`format` specifies it is a json file\n",
    "\n",
    "-`action` specifies what to do, in this instance it we want to query from the database\n",
    "\n",
    "-`title` is the title of the page to be accessed\n",
    "\n",
    "-`prop` is the data property of the page we want. In this case, revisions will grab the list of revisions one to the page\n",
    "\n",
    "-`rvprop` is which properties to get for each revision, in this case it is the content of each revision slot\n",
    "\n",
    "\n",
    "\n",
    "2. Download the Batman page data from the API. Extract the markup from the JSON object and save it to a file called \"batman.txt\".\n"
   ]
  },
  {
   "cell_type": "code",
   "execution_count": 10,
   "metadata": {},
   "outputs": [],
   "source": [
    "markup = data['query']['pages']['4335']['revisions'][0]['*']\n",
    "bat_title = data['query']['pages']['4335']['title']\n",
    "\n",
    "file = open(bat_title+\".txt\",\"w\") \n",
    "file.write(markup)\n",
    "file.close()"
   ]
  },
  {
   "cell_type": "markdown",
   "metadata": {},
   "source": [
    "### Part 1: Get data (main part)"
   ]
  },
  {
   "cell_type": "markdown",
   "metadata": {},
   "source": [
    "For a good part of this course we will be working with data from Wikipedia. Today, your objective is to crawl a large dataset with good and bad characters from the Marvel characters."
   ]
  },
  {
   "cell_type": "markdown",
   "metadata": {
    "ExecuteTime": {
     "end_time": "2017-08-23T14:01:10.834257Z",
     "start_time": "2017-08-23T14:01:10.826472Z"
    }
   },
   "source": [
    ">**Ex. 3.1.1**: From the Wikipedia API, get a list of all Marvel superheroes and another list of all Marvel supervillains. Use 'Category:Marvel_Comics_supervillains' and 'Category:Marvel_Comics_superheroes' to get the characters in each category.\n",
    "1. How many superheroes are there? How many supervillains?\n",
    "2. How many characters are both heroes and villains? What is the Jaccard similarity between the two groups?\n",
    "\n",
    ">*Hint: Google something like \"get list all pages in category wikimedia api\" if you're struggling with the query.*"
   ]
  },
  {
   "cell_type": "code",
   "execution_count": 3,
   "metadata": {},
   "outputs": [],
   "source": [
    "hero = \"Category:Marvel_Comics_supervillains\"\n",
    "villian = \"Category:Marvel_Comics_superheroes\"\n",
    "\n",
    "def list_category(category):\n",
    "    url = \"https://en.wikipedia.org/w/api.php?\"\n",
    "    request = \"format=json&action=query&list=categorymembers&cmlimit=max\"\n",
    "    cat= \"&cmtitle=\"+category\n",
    "\n",
    "    start = rq.get(url+request+cat).json()\n",
    "    cat_list = start['query']['categorymembers']\n",
    "    \n",
    "    try:\n",
    "        cmcontinue = start['continue']['cmcontinue']\n",
    "        while True:\n",
    "            temp = rq.get(url+request+cat+\"&cmcontinue=\"+cmcontinue).json()\n",
    "            cat_list.extend(temp['query']['categorymembers'])\n",
    "            cmcontinue = temp['continue']['cmcontinue']\n",
    "    \n",
    "    except KeyError:\n",
    "        print(\"\")\n",
    "    \n",
    "    return cat_list"
   ]
  },
  {
   "cell_type": "code",
   "execution_count": 4,
   "metadata": {},
   "outputs": [
    {
     "name": "stdout",
     "output_type": "stream",
     "text": [
      "\n",
      "1098\n",
      "\n",
      "851\n"
     ]
    }
   ],
   "source": [
    "print(len(list_category(hero)))\n",
    "print(len(list_category(villian)))"
   ]
  },
  {
   "cell_type": "markdown",
   "metadata": {
    "ExecuteTime": {
     "end_time": "2017-08-23T14:01:10.834257Z",
     "start_time": "2017-08-23T14:01:10.826472Z"
    }
   },
   "source": [
    ">**Ex. 3.1.2**: Using this list you now want to download all data you can about each character. However, because this is potentially Big Data, you cannot store it your computer's memory. Therefore, you have to store it in your harddrive somehow. \n",
    "* Create three folders on your computer, one for *heroes*, one for *villains*, and one for *ambiguous*.\n",
    "* For each character, download the markup on their pages and save in a new file in the corresponding hero/villain/ambiguous folder.\n",
    "\n",
    ">*Hint: Some of the characters have funky names. The first problem you may encounter is problems with encoding. To solve that you can call `.encode('utf-8')` on your markup string. Another problem you may encounter is that characters have a slash in their names. This, you should just replace with some other meaningful character.*"
   ]
  },
  {
   "cell_type": "code",
   "execution_count": 5,
   "metadata": {},
   "outputs": [],
   "source": [
    "def strip_attrs(cat_list):\n",
    "    pageid = []\n",
    "    title = []\n",
    "    \n",
    "    for i in cat_list:   \n",
    "        pageid.append(i['pageid'])\n",
    "        title.append(i['title'])\n",
    "    \n",
    "    return pageid,title"
   ]
  },
  {
   "cell_type": "code",
   "execution_count": 6,
   "metadata": {},
   "outputs": [
    {
     "name": "stdout",
     "output_type": "stream",
     "text": [
      "\n",
      "\n"
     ]
    }
   ],
   "source": [
    "h_page, h_title = strip_attrs(list_category(hero))\n",
    "v_page, v_title = strip_attrs(list_category(villian))"
   ]
  },
  {
   "cell_type": "code",
   "execution_count": 7,
   "metadata": {},
   "outputs": [],
   "source": [
    "def scrape_list(pages, titles):\n",
    "    url = \"https://en.wikipedia.org/w/api.php?\"\n",
    "    req = \"format=json&action=query&prop=revisions&rvprop=content\"\n",
    "    cat= \"&titles=\"+titles[0]\n",
    "    \n",
    "    \n",
    "    arg = url+req+cat\n",
    "    \n",
    "    start = rq.get(arg).json()\n",
    "\n",
    "    \n",
    "    return start\n",
    "    \n",
    "test = scrape_list(h_page, h_title)    \n",
    "    \n",
    "    "
   ]
  },
  {
   "cell_type": "code",
   "execution_count": 8,
   "metadata": {},
   "outputs": [
    {
     "data": {
      "text/plain": [
       "{'pages': {'850460': {'pageid': 850460,\n",
       "   'ns': 0,\n",
       "   'title': 'Abomination (comics)',\n",
       "   'revisions': [{'contentformat': 'text/x-wiki',\n",
       "     'contentmodel': 'wikitext',\n",
       "     '*': '{{Infobox comics character\\n<!--Wikipedia:WikiProject Comics-->\\n| image   = Abomination (Emil Blonsky).jpg\\n| converted= y\\n| caption = Textless cover of \\'\\'[[Hulk (comic book)|Hulk]]\\'\\' #2 (April 2014).<br>Art by [[Jerome Opeña]].\\n| character_name= Abomination\\n| publisher = [[Marvel Comics]]\\n| debut   = \\'\\'[[Tales to Astonish]]\\'\\' #90 (April 1967)\\n| creators= [[Stan Lee]]<br>[[Gil Kane]]\\n| alter_ego = Emil Blonsky\\n| full_name =\\n| species = [[Mutate (comics)|Human Mutate]]\\n| homeworld =\\n| alliances =[[KGB]]<br/>Legion Accursed<br/>[[Masters of Evil]]<br/>[[Lethal Legion]]\\n| partners = [[Leader (comics)|The Leader]]\\n| aliases = Agent R-7, The Ravager of Worlds\\n| supports =<!--optional-->\\n| powers  ={{Plainlist|\\n* Superhuman strength, speed, stamina and durability\\n* Regenerative [[healing factor]]\\n* Underwater breathing via gills\\n* Hellfire projection\\n* Ability to enter suspended animation for a long period of time\\n* Gamma ray emission and manipulation\\n}}\\n| cat     = super\\n| subcat  = Marvel Comics\\n| hero    =\\n| villain = y\\n| sortkey = Abomination (comics)\\n|}}\\nThe \\'\\'\\'Abomination\\'\\'\\' (\\'\\'\\'Emil Blonsky\\'\\'\\') is a [[character (arts)|fictional]] [[supervillain]] <!--DO NOT ADD ARCHENEMY OF THE HULK, USE THE TALK PAGE.--> appearing in [[American comic book]]s published by [[Marvel Comics]]. The character first appeared in \\'\\'[[Tales to Astonish]]\\'\\' #90 (April 1967), and was created by writer [[Stan Lee]] and artist [[Gil Kane]], to be the rival of the Hulk.\\n\\nDebuting in the [[Silver Age of Comic Books]], the Abomination has been featured in other Marvel-endorsed products such as arcade and [[video game]]s, [[animation|animated]] [[television program|television series]], merchandise such as [[action figure]]s and [[trading card]]s, and the [[Marvel Cinematic Universe]] film \\'\\'[[The Incredible Hulk (film)|The Incredible Hulk]]\\'\\', where he was portrayed by [[Tim Roth]].\\n\\nIn 2009, the Abomination was ranked as [[IGN]]\\'s 54th Greatest Comic Book Villain of All Time.<ref>[http://comics.ign.com/top-100-villains/54.html \"Abomination is number 54\"] {{webarchive |url=https://web.archive.org/web/20090511133106/http://comics.ign.com/top-100-villains/54.html |date=May 11, 2009 }}. [[IGN]]. Retrieved June 3, 2012.</ref>\\n\\n==Publication history==\\n[[Stan Lee]] chose the name \"the Abomination\", which he realized belonged to no other character, before conceiving the character\\'s background and appearance. Lee recalled that he simply told the artist [[Gil Kane]] to \"make him bigger and stronger than the [[Hulk]] and we\\'ll have a lot of fun with him.\"<ref>{{Cite news|author=Tim Lammers |title=Stan Lee Pumped Over Return Of \\'Incredible Hulk\\' |work=[[KCRA-TV]] |date=2008-06-11 |url=http://www.kcra.com/entertainment/16574962/detail.html |accessdate=2008-06-24 |url-status=dead |archiveurl=https://web.archive.org/web/20081013230843/http://www.kcra.com/entertainment/16574962/detail.html |archivedate=2008-10-13 }}</ref>\\n\\nEmil Blonsky first appeared in the title \\'\\'[[Tales to Astonish]]\\'\\', and was introduced as a [[KGB]] agent and spy<ref>{{Cite book|title=The Marvel Encyclopedia|last=DeFalco|first=Tom|year= 2006|publisher=Dorling Kindersley|isbn=978-0-7566-2358-6|page=8}}</ref> who became the Abomination after deliberately exposing himself to a greater quantity of the same [[gamma ray|gamma radiation]] that transformed Bruce Banner into his [[alter ego]] the Hulk, using a machine Banner was planning on using to commit suicide. In his first appearance, Blonsky became a large scaly humanoid even stronger than the Hulk. In accordance with Lee\\'s wishes, the character defeated the Hulk in their first battle.<ref name=\"Astonish\\' 1967\">\\'\\'Tales to Astonish\\'\\' #90 - 91 (April - May 1967). Marvel Comics.</ref>\\n\\nThe character has been featured in a number of Marvel titles, gradually shifting from unthinking savage brute,<ref name=\"Astonish\\' 1967\"/> to master schemer,<ref name=\"Thor #178 July 1970\">\\'\\'Thor\\'\\' #178 (July 1970). Marvel Comics.</ref> to tortured soul,<ref name=\"Hulk\\' 1991\">\\'\\'Hulk\\'\\' #382 - 384 (June - Aug. 1991). Marvel Comics.</ref> and finally repentant villain and occasional defender of the weak<ref>\\'\\'Hulk\\'\\' #431 -432 (July - Aug. 1995). Marvel Comics.</ref> before being killed in battle.<ref name=\"Hulk\\' 2008\">\\'\\'Hulk\\'\\' vol. 2 #1 - 2 (Feb. - March 2008). Marvel Comics.</ref>\\n\\n[[File:Hulk-159.jpg|thumb|left|150px|The Abomination (left) battles the [[Hulk]] on the cover of \\'\\'[[The Incredible Hulk (comic book)|The Incredible Hulk]]\\'\\' #159 (Jan. 1973). Art by [[Herb Trimpe]].]]\\n\\n==Fictional character biography==\\nEmil Blonsky was born in [[Zagreb]] (then part of Yugoslavia) and became a KGB agent who was sent to an Air Force Base in New Mexico to photograph equipment when he bombarded himself with a much higher dose of gamma radiation and transforms for the first time when Bruce Banner walks in and is nearly killed. The Hulk is revived by [[General officer|General]] [[Thunderbolt Ross]] using radioactive rays. The Hulk eventually reverts to Banner, who lures the Abomination into a trap and drains off the Abomination\\'s excess power, allowing the Hulk to defeat him. The entire encounter is observed by the cosmic entity the [[Stranger (comics)|Stranger]], who encountered the Hulk in the previous storyline when he planned to control his mind and use him to wipe out most of humanity so the survivors could build a better civilization, but was dissuaded from destroying the Earth by Banner\\'s noble actions.<ref>\\'\\'Tales to Astonish\\'\\' #89 (Apr. 1967). Marvel Comics.</ref> He takes the Abomination - judged to be evil - off world for further study.<ref name=\"Astonish\\' 1967\"/>\\n\\nThe Abomination reappears when summoned by a [[coven]] of [[witchcraft|witches]] to briefly battle the cosmic hero the [[Silver Surfer]]<ref>\\'\\'Silver Surfer\\'\\' #12 (Jan. 1970). Marvel Comics.</ref> and summons [[Thor (Marvel Comics)|Thor]] (via an absent Stranger\\'s technology) to aid him in escaping the Stranger\\'s laboratory world. Thor frees the Abomination and the other captives, but, on discovering they are all evil, uses his mystic hammer [[Mjolnir (comics)|Mjolnir]] to [[time travel]] several hours into the past to undo his mistake. After defeating the Abomination and placing the Abomination in prison, Thor departs.<ref name=\"Thor  #178 July 1970\"/> When the Hulk is defeated by the alien Xeron the Star Slayer (who is in [[New York City]] hunting a giant creature called [[Klaatu (comics)|Klaatu]]) and brought aboard a space vessel, the Abomination is revealed to be [[Chief Mate|First Mate]] of the alien crew. When the captain of the vessel directs Xeron and the crew to battle Klaatu in space, the Hulk and the Abomination are thrown from the vessel and battle until the pair are drawn into Earth\\'s [[orbit]] and separated.<ref>\\'\\'Incredible Hulk\\'\\' #136 - 137 (March - April 1971). Marvel Comics.</ref>\\n\\nIt is revealed in [[Flashback (narrative)|flashback]] that the Abomination entered into a [[coma]] on impacting with the Earth and is buried for two years. Revived by an off-course [[missile]] fired from [[Hulkbusters|Hulkbuster]] Base (under Ross\\' jurisdiction), the Abomination joins forces with General Ross to defeat the Hulk, but is battered into submission by an angered Hulk.<ref>\\'\\'Hulk\\'\\' #159 (Jan. 1973)</ref> The Abomination reappears with fellow Hulk foe the [[Rhino (comics)|Rhino]], and the pair activates a gamma bomb at the Hulkbuster base in an attempt to destroy the Hulk. The Hulk\\'s companion of the time, [[Jim Wilson (comics)|Jim Wilson]], deactivates the bomb and the Hulk tricks the villains during combat, forcing them to collide and knock each other [[unconsciousness|unconscious]].<ref>\\'\\'Incredible Hulk\\'\\'  #171 (Jan. 1974). Marvel Comics.</ref> A comatose Abomination is eventually found by soldiers at Ross\\' direction and has a miniature bomb implanted in his [[Human skull|skull]], being told to fight and defeat the Hulk or be killed. The Abomination tricks the Hulk into an alliance and betrays Ross by attempting to [[ransom]] the captured [[Kennedy Space Center]]. The plan fails when the Hulk turns on the Abomination and the pair fight, with the Abomination being caught on a [[rocket]] when it explodes.<ref>\\'\\'Incredible Hulk\\'\\'  #194 - 196 (Dec. 1975 - Feb. 1976). Marvel Comics.</ref>\\n\\nAn [[illusion]] of the Abomination also appears with illusions of other Hulk foes when the Hulk (at the time possessing the intelligence of Banner, thanks to being made to a device called the Encephalo-Helmet) enters the [[brain]] of [[Colonel]] [[Glenn Talbot]] at [[microscopic scale|microscopic]] size to [[:wikt:excision|excise]] a [[mental block]] placed in Talbot\\'s mind by the [[Gremlin (comics)|Gremlin]].<ref>\\'\\'Incredible Hulk\\'\\' #200 (June 1976). Marvel Comics.</ref>\\n\\nThe Abomination eventually reappears as a servant of the entity the [[Galaxy Master]], having been empowered with even greater strength. After another extended battle with the Hulk, the Hulk attacks and destroys the Galaxy Master, causing the Abomination to weaken and apparently become lost in [[outer space|space]].<ref>\\'\\'Incredible Hulk\\'\\' #270 (April 1982). Marvel Comics.</ref> When [[MODOK]] invades the Hulkbuster base, he colludes with General Ross to revive the Abomination, who was found in a block of ice above Earth and kept in [[cryogenics|cryogenic]] storage for further study. MODOK intends to use the Abomination against his superiors at [[Advanced Idea Mechanics|A.I.M.]], while Ross wants to use him to destroy the Hulk. The Abomination, however, has become afraid of the Hulk as a result of their past battles and has to be mentally forced by MODOK to fight the Hulk. MODOK, however, is ousted by AIM, and a hesitant Abomination is beaten by the Hulk when he intervenes to save Banner\\'s laboratory assistant. The Abomination refuses to rejoin the fight, and is [[wikt:disintegrate|disintegrate]]d by MODOK.<ref>\\'\\'Incredible Hulk\\'\\' #287 - 290 (Sep. - Nov. 1983). Marvel Comics.</ref>\\n\\nDuring the \"[[Secret Wars II]]\" storyline, Abomination is restored by the demonic entity [[Mephisto (comics)|Mephisto]], who directs the Abomination and other villains against the [[cosmic entity (Marvel Comics)|cosmic entity]] the [[Beyonder]] as a member of the Legion Accursed.<ref>\\'\\'Secret Wars II\\'\\' #1 - 9 (July 1985 - March 1986). Marvel Comics.</ref>\\n\\nThe restoration is temporary as a still disembodied Abomination\\'s atoms mingle with the disembodied atoms of the villain [[Tyrannus (comics)|Tyrannus]], who reintegrates the Abomination\\'s body and places it under his mind\\'s control. Tyrannus, as the Abomination, then comes into conflict with the Gray Hulk, and quickly defeats the weaker version of their foe. When the Hulk reverts to Banner, Tyrannus forces him to create a procedure that will remove Blonsky\\'s mind, who is mentally fighting Tyrannus\\' mind for control of the Abomination\\'s body. The process is successful and Blonksy is restored to a human form, free of Tyrannus, whose mind is still occupying the form of the Abomination. An enraged Gray Hulk defeats Tyrannus, who is placed into custody by the organization [[S.H.I.E.L.D.]]<ref>\\'\\'Incredible Hulk Annual\\'\\' #15 (Jan. 1986). Marvel Comics.</ref>\\n\\nAfter encounters against [[Avengers (comics)|Avengers]] [[Wonder Man]]<ref>\\'\\'West Coast Avengers\\'\\' #25 (Oct. 1987)</ref> and [[Hawkeye (comics)|Hawkeye]],<ref>\\'\\'Solo Avengers\\'\\' #12 (Nov. 1988). Marvel Comics.</ref> the Tyrannus-controlled Abomination reappears during the \"[[Atlantis Attacks]]\" storyline with the [[Deviant (comics)|Deviant]] [[Ghaur]] freeing Tyrannus from the body of the Abomination by restoring Tyrannus\\' mind to a duplicate of his own body and placing Blonsky\\'s mind within the Abomination\\'s body once more. The process drives Blonksy insane, and he battles heroes [[Spider-Man]] and [[She-Hulk]], managing to knock both unconscious. The Abomination is eventually driven off when set on fire by She-Hulk.<ref>\\'\\'Amazing Spider-Man Annual\\'\\' #23 (1989). Marvel Comics.</ref> The Abomination\\'s mental faculties eventually return and the Abomination reappears in the \"Countdown\" storyline as a pawn of another Hulk foe, the [[Leader (comics)|Leader]]. The Abomination is sent to a [[toxic waste]] site to collect samples, and encounters the gray version of the Hulk again, who is outmatched and also weak due to being [[poison]]ed. The Hulk, however, throws the Abomination into toxic waste that partially dissolves and horribly scars the Abomination.<ref>\\'\\'Incredible Hulk\\'\\' #364 - 367 (Dec. 1989 - March 1990). Marvel Comics.</ref>\\n\\nThe Abomination temporarily teams with villains [[Mary MacPherran|Titania]] and [[Gargantua (comics)|Gargantua]]<ref>\\'\\'Hulk Annual\\'\\' #19 (Jan. 1991). Marvel Comics.</ref> and finds and stalks his former wife, Nadia (a famous [[ballet]] dancer). The Abomination captures her and after taking her into the New York City sewers, reveals his true identity. After a brief skirmish, the Hulk persuades the Abomination to free his wife.<ref name=\"Hulk\\' 1991\"/>\\n\\nThe Abomination is also captured by the [[robot]] [[Sentinel (comics)|Sentinels]], but is eventually freed by the [[X-Men]].<ref>\\'\\'Marvel Super-Heroes\\'\\' vol. 2 #6 - 8 (July, Oct. and Dec. 1991). Marvel Comics.</ref>\\n\\nAfter befriending a woman who finds her way into the sewers,<ref>\\'\\'Hulk Annual\\'\\' #20 (Jan. 1994). Marvel Comics.</ref> the Abomination battles [[Namor]] during an attempt to save his kidnapped former wife.<ref>\\'\\'Namor, the Sub-Mariner\\'\\' #58 - 59 (Jan. - Feb. 1995). Marvel Comics.</ref> The Abomination retaliates against the [[New York City Police Department|NYPD]] when the [[Police Commissioner]] orders the sewers be cleared of all homeless, who the Abomination has placed under his protection. After killing several police officers, he is eventually driven away when confronted by the Hulk.<ref>\\'\\'Incredible Hulk\\'\\' #431 -432 (July - Aug. 1995). Marvel Comics.</ref> The Abomination battles the mutant [[Nate Grey]] (who is searching the sewers for his lover and fellow mutant [[Threnody]], who had been one of the homeless followers of the Abomination), who uses his mental abilities to trick the Abomination in thinking that he defeated Grey.<ref>\\'\\'X-Man\\'\\' vol. 2 #19 - 20 (Sep. - Oct. 1996). Marvel Comics.</ref> He battles a [[delusion]]al Hulk<ref>\\'\\'Incredible Hulk\\'\\' #459 (Dec. 1997). Marvel Comics.</ref> before encountering the [[Warren Worthington III|Angel]] when the mutant visits the sewers in which he was once captured and maimed during the \"[[Fall of the Mutants]]\" storyline.<ref>\\'\\'X-Men\\'\\' vol. 2 #74 (April 1998). Marvel Comics.</ref>\\n\\nWhen [[Betty Ross]] dies in the title \\'\\'Hulk\\'\\', Banner mistakenly thinks her proximity to the Hulk has induced a fatal case of [[radiation poisoning]].<ref>\\'\\'Incredible Hulk\\'\\' #468 (Sep. 1998). Marvel Comics.</ref> Using a gamma device, a vindictive General Ross tracks what he believes to be the Hulk to a destroyed town, where the Abomination reveals he was the true culprit. Despite baiting a newly arrived Hulk, the Abomination is unable to force the Hulk to fight and departs.<ref>\\'\\'Incredible Hulk\\'\\' #472 - 474 (Jan. - Mar. 1999). Marvel Comics.</ref>\\n\\nThe circumstances of Betty\\'s death are eventually revealed: Blonksy\\'s transformation into the Abomination apparently alienates his former wife Nadia, driving his hatred of Banner; Blonsky, deciding to deprive Banner of Betty in return, secretly [[poison]]s her with his radioactive blood. After hearing the Abomination\\'s admission, Banner eventually discovers the truth and the Hulk defeats the Abomination in combat. Taken into custody by the military, Blonsky is forced to watch old [[home movies]] of him and his wife together (prior to his transformation) as punishment.<ref>\\'\\'Incredible Hulk\\'\\' vol. 2 #24 - 25 (March - April 2001). Marvel Comics.</ref> Operatives from a secret organization \"Home Base\" eventually release the Abomination to battle the Hulk, and although able to taunt the Hulk about Betty\\'s murder, he is defeated once again.<ref>\\'\\'Incredible Hulk\\'\\' vol. 2 #50 - 54 (March - July 2003). Marvel Comics.</ref> This encounter is revealed to be a [[dream]] generated by longtime [[Doctor Strange]] foe [[Nightmare (Marvel Comics)|Nightmare]] in an effort to torture the Hulk.<ref>\\'\\'Hulk\\'\\' vol. 3 #81 (July 2005). Marvel Comics.</ref>\\n\\nAfter a humorous encounter with the [[demigod]] [[Hercules (Marvel Comics)|Hercules]], in which the Abomination is chosen as an adversary for the hero while he completes the modern version of the twelve [[Labours of Hercules]],<ref>\\'\\'Hercules\\'\\' vol. 3 #1 - 3 (June - Aug. 2005); #4 - 5 (Sep. 2005). Marvel Comics.</ref> the Abomination is pardoned and employed by the U.S. government as a [[contract killing|hitman]] against hostile foreign powers.<ref>\\'\\'Hulk: Destruction\\'\\' #1 - 4 (Sep. - Dec. 2005). Marvel Comics.</ref> The Abomination is also a conflicted opponent for the heroine [[She-Hulk]] (currently employed by [[espionage|spy]] organization [[S.H.I.E.L.D.]]).<ref>\\'\\'She-Hulk\\'\\' vol. 2 #15 & 17 (March and May 2007). Marvel Comics.</ref> The Abomination has a subtle but significant role in the \\'\\'[[World War Hulk]]\\'\\' storyline,<ref>\\'\\'Incredible Hulk: Prelude To Planet Hulk\\'\\' #1 (Jan. 2006). Marvel Comics.</ref> being the source of gamma-irradiated [[DNA]] that allows the creation of an anti-Hulk response team.<ref>\\'\\'World War Hulk: Gamma Files\\'\\' #1 (Aug. 2007). Marvel Comics.</ref><ref>\\'\\'World War Hulk - Gamma Corps\\'\\'  #1 - 3 (Sep. - Nov. 2007) and #4 (Jan. 2008). Marvel Comics.</ref>\\n\\nThe Abomination reappears after the events of \\'\\'World War Hulk\\'\\', encountering a new foe called the [[Red Hulk]]. This new opponent savagely beats, shoots, and kills the Abomination.<ref name=\"Hulk\\' 2008\"/> Later on, it is revealed that the Abomination\\'s killer, the Red Hulk, is actually General Ross\\'s gamma-powered alter ego; he killed Blonsky as an act of revenge for his deliberate gamma poisoning (and later death) of Ross\\'s daughter Betty.<ref>\\'\\'Hulk\\'\\' vol. 2 #23. Marvel Comics.</ref>\\n\\nDuring the \"[[Dark Reign (comics)|Dark Reign]]\" storyline, Abomination is among the dead characters present at [[Zeus (Marvel Comics)|Zeus]]\\' trial.<ref>\\'\\'Incredible Hercules\\'\\' #129. Marvel Comics.</ref> Abomination reappears in the court of the [[death deity|death god]] [[Pluto (Marvel Comics)|Pluto]], attacking the [[Olympus (Marvel Comics)|Olympian]] god when he loses power over the dead.<ref>\\'\\'Incredible Hercules\\'\\' #130 - 132 (Aug. - Sep. 2009). Marvel Comics.</ref>\\n\\nDuring the \"[[Chaos War (comics)|Chaos War]]\" storyline, Abomination is among the dead characters in the Underworld that Pluto liberated in order to help defend the Underworld from [[Amatsu-Mikaboshi (comics)|Amatsu-Mikaboshi]].<ref>\\'\\'Chaos War\\'\\' #2. Marvel Comics.</ref> Abomination fights the Hulk and his allies until [[Marlo Chandler]] taps into the [[Death (Marvel Comics)|Death]] essence within her to destroy his undead body.<ref>\\'\\'Incredible Hulks\\'\\' #620. Marvel Comics.</ref>\\n\\nA shadow organization (later revealed to be the Ancient Order of the Shield <ref>\\'\\'Hulk\\'\\' vol. 3 #8. Marvel Comics.</ref>) bent on gaining control of the Hulk harvests biological material from a mortally wounded Bruce Banner. After Banner regains consciousness following the experiment and escapes as the Hulk, the organization uses this material to resurrect the Abomination under their control, leaving him \"free of a mind or a conscience\" and with an ability to seek out Banner/Hulk for retrieval.<ref>\\'\\'Hulk\\'\\' vol. 3 #1-2 (April–May 2014). Marvel Comics.</ref> Hulk defeats the Abomination yet again with the aid of the Avengers. [[Iron Man]] uses technology taken from the Order of the Shield agents to teleport the Abomination into interplanetary space estimated to be \"somewhere in the vicinity of [[Jupiter]]\".<ref>\\'\\'Hulk\\'\\' vol. 3 #3-4 (June–July 2014). Marvel Comics.</ref>\\n\\nTissue samples of Abomination were later used by the U.S. Hulk Operations to graft to the corpse of Rick Jones that revives him as an Abomination/A-Bomb-like creature that Dr. Charlene McGowan calls Subject B.<ref>\\'\\'Immortal Hulk\\'\\' #17. Marvel Comics.</ref>\\n\\nAfter ripping Rick Jones from Subject B\\'s body in a brutal battle, Hulk Operations Commanding Officer, General Reginald Fortean teleport to Gamma FLight Headquarters in space, killing Sasquatch and temporarially killing Doctor Samson to retrieve the Subject B husk. Fortean then willingly fuses himself with the body.<ref>\\'\\'Immortal Hulk\\'\\' #21. Marvel Comics.</ref>\\n\\n==Powers and abilities==\\nThe Abomination is similar to the Hulk in terms of strength, stamina, speed and durability, and the ability to [[regeneration (biology)|regenerate]]. In contrast with the Hulk, he retains his intellect after transforming, and cannot change back into human form. He also possesses [[gill]]s, enabling underwater breathing; and, he can enter a state of [[suspended animation]] when bereft of [[oxygen]] for long periods. Initially, the Abomination is twice as strong as the Hulk, but unlike the Hulk his strength does not increase/decrease in proportion to level of anger, with the result that the Hulk is able to gain an advantage over Blonsky if the fight takes a sufficient amount of time for his anger to increase.\\n\\nAfter being further empowered by Amatsu-Mikaboshi, the Abomination is considerably larger than before, can project hellfire and is strong enough to rip off the shell of his successor [[Rick Jones (comics)#A-Bomb|A-Bomb]] (something which the Red Hulk had previously been unable to do).<ref>\\'\\'Incredible Hulk\\'\\' #618; \\'\\'Incredible Hulk\\'\\' #619</ref> After his second resurrection by the Illuminati dubbed Order of the Shield, the cloned Abomination gains further augmentation through Banner\\'s biological grafts. Abomination gains the ability to track the Hulk anywhere in the world at will.<ref>\\'\\'Hulk\\'\\' Vol. 3 #2, May 2014</ref> Another feature is his ability to control his gamma radiation output in such a way that he can make it toxic to even the most resilient of individuals including energy absorbers such as Hulk, Captain Marvel and Sunspot.<ref>\\'\\'Hulk\\'\\' Vol. 3 #4, July 2014</ref>\\n\\n==Related characters==\\nThere were some characters that are related to Abomination in appearance:\\n\\n===Abominatrix===\\n\\'\\'\\'Abominatrix\\'\\'\\' is a female counterpart of Abomination. Florence Sharples was the manager at Jasper Keaton\\'s savings and loans company. She became Abominatrix due to a failed medical experiment done by Jasper Keaton\\'s medical facility and fought She-Hulk.<ref>\\'\\'She-Hulk\\'\\' #21-23</ref>\\n\\n===Teen Abomination===\\n\\'\\'\\'[[Teen Abomination]]\\'\\'\\' is a 13-year-old who got exposed to gamma radiation and became a teenage version of Abomination.\\n\\n==Other versions==\\n\\n===JLA/Avengers===\\nAbomination is among the villains enthralled by [[Krona (comics)|Krona]] to defend his stronghold. He is defeated by [[Superman]].<ref>\\'\\'JLA/Avengers\\'\\' #4</ref>\\n\\n===Ultimate Marvel===\\nThe Ultimate version of the Abomination appears in the [[Ultimate Marvel]] imprint title \\'\\'[[The Ultimates 2]]\\'\\', as part of an international group called [[Masters of Evil|the Liberators]]. This version of the Abomination is a [[China|Chinese]] scientist named \\'\\'\\'Chang Lam\\'\\'\\'.<ref name=\"Ultimates\\' 2005\">\\'\\'Ultimates\\'\\' 2 #1 - 6 (Feb. - July 2005); #7 (Sep. 2005); #8 (Nov. 2005); #9 (Jan. 2006); #10 (Mar. 2006); #11 - 12 (July - Aug. 2006); #13 (Feb. 2007)</ref> Dr. Lam was working to create a more efficient version of the Hulk. When he believed his research was complete, he used it on himself. When he transformed into a dinosaur-like giant, he retained control of his permanently enhanced form because of his lack of mental disorders. He was, at the time of its inception, serving with the Liberators. He was last seen in the Liberators\\' fight with the Ultimates, battling with Hulk. He believed that his intact intellect would allow him to easily beat the Hulk, but ended up being ultimately killed in duel.<ref name=\"Ultimates\\' 2005\"/>\\n\\nThe Ultimate Emil Blonsky makes his debut in \\'\\'[[Ultimate Comics: Ultimates]]\\'\\' #27  and is part of [[Ultimate Nick Fury|Nick Fury]]\\'s [[Howling Commandos]] team under the codename \"The Abomination\" <ref>\\'\\'Ultimate Comics: Ultimates\\'\\' #27</ref> and has the ability to hulk out.<ref>\\'\\'Cataclysm: Ultimates\\'\\' #3</ref>\\n\\n===Abominations===\\nThe character also stars in the [[Limited series (comics)|limited series]] \\'\\'[[Abominations]]\\'\\', which continues plot points from the \\'\\'Future Imperfect\\'\\' storyline.<ref>\\'\\'Incredible Hulk: Future Imperfect\\'\\' #1 - 2 (Dec. 1992 - Feb. 1993)</ref> A group of [[time travel]]ling [[assassination|assassins]] from the time of the villain the [[Maestro (comics)|Maestro]] - sent by an alternate version of the Abomination called \"Emil\" -  arrive in the present, intent on killing \\'\\'Betty-6\\'\\', a futuristic version of Betty Ross who is [[pregnancy|pregnant]] with the Maestro\\'s child. The Abomination provides shelter for Betty-6 and prevents the assassination.<ref>\\'\\'Abominations\\'\\' #1 - 3 (Dec. 1996 - Feb. 1997)</ref>\\n\\n===Mutant X===\\nIn the \"[[Mutant X (comics)|Mutant X]]\" universe, the Abomination appears as a part of a group that opposed the [[Beyonder]] and died after.<ref>\\'\\'Mutant X Annual 2001\\'\\' #1</ref>\\n\\n===Marvel Zombies===\\nA zombified Abomination appears in \\'\\'[[Marvel Zombies: Dead Days]]\\'\\' after the zombified [[Hulk]] infects him by biting him on the arm. [[Thor (Marvel Comics)|Thor]] apparently killed him when he destroys his head with [[Mjolnir (comics)|Mjolnir]], his mighty hammer.<ref>\\'\\'Marvel Zombies: Dead Days\\'\\'</ref>\\n\\n==In other media==\\n\\n===Television===\\n* Abomination appears in \\'\\'[[The Incredible Hulk (1996 TV series)|The Incredible Hulk]]\\'\\',<ref>{{Cite episode\\n | title          = The Return of the Beast-Part I\\n | series         =The Incredible Hulk\\n | network        = [[UPN]]\\n | date           = September 8, 1996\\n | season         = 1\\n | number         = 1}}</ref> voiced by [[Richard Moll]].{{citation needed|date=August 2017}} He, alongside [[Gargoyle (comics)|Gargoyle]] and [[Ogress (comics)|Ogress]], serves the Leader as one of the Gamma Warriors.\\n* Abomination appears in \\'\\'[[The Super Hero Squad Show]]\\'\\', voiced by [[Steven Blum]].<ref>{{Cite episode\\n | title          = And Lo... A Pilot Shall Come!\\n | series         =The Super Hero Squad Show\\n | network        = [[Cartoon Network]]\\n | date           = September 14, 2009\\n | season         = 1\\n | number         = 1}}</ref> He is a member of [[Doctor Doom]]\\'s [[Lethal Legion]] and along with MODOK acts as the group\\'s [[comic relief]].\\n* Abomination appears in \\'\\'[[The Avengers: Earth\\'s Mightiest Heroes]]\\'\\', voiced by [[Robin Atkin Downes]].<ref>{{Cite episode\\n | title          = This Monster, This Hero\\n | series         =The Avengers: Earth\\'s Mightiest Heroes\\n | network        = [[Disney XD]]\\n | date           = September 14, 2009\\n | season         = Micro-series\\n | number         = 10}}</ref> He is seen as an inmate of the Cube. In \"The Breakout (Part 1)\", Abomination was among the prisoners to escape during the Cube\\'s sudden power failure. He briefly engages Hulk who retreats with Doc Samson enabling him, Leader, and Absorbing Man to gain control of the Cube. In the two-part episode \"Gamma World\", Abomination assisted Leader in a plot to turn everyone in the world into gamma monsters. Hulk engaged Abomination and threw him into the desert. At the end of the episode, Abomination was crawling through the desert when he is approached by [[Baron Zemo]]\\'s [[Masters of Evil]].\\n* Abomination appears in \\'\\'[[Lego Marvel Super Heroes: Maximum Overload]]\\'\\', voiced again by Robin Atkin Downes.<ref name=\"btva\">{{cite web|title=Behind The Voice Actors – Robin Atkin Downes|url=http://www.behindthevoiceactors.com/Robin-Atkin-Downes/|publisher=Behind The Voice Actors|accessdate=June 27, 2015}} – green check mark indicates roles that have been verified by BTVA through closing credits</ref>\\n* Abomination appears in \\'\\'[[Hulk and the Agents of S.M.A.S.H.]]\\'\\', voiced again by Robin Atkin Downes.<ref>{{cite episode|title=Abomination|series=Hulk and the Agents of S.M.A.S.H.|network=Disney XD|season=1|number=17|airdate=February 2, 2014}}</ref>\\n* Abomination appears in \\'\\'[[Marvel Disk Wars: The Avengers]]\\'\\', voiced in Japanese by [[Masaya Takatsuka]] and in English again by Robin Atkin Downes.{{cn|date=August 2019}}\\n* Abomination appears in the \\'\\'[[Ultimate Spider-Man (TV series)|Ultimate Spider-Man]]\\'\\' episode \"Contest of Champions (Part 1)\", voiced again by Robin Atkin Downes.<ref>{{Cite episode\\n | title          = Contest of Champions Pt 1\\n | series         =Ultimate Spider-Man\\n | network        = [[Disney XD]]\\n | date           = October 3, 2015\\n | season         = 3\\n | number         = 23}}</ref> He, alongside [[Beetle (comics)|Beetle]] and [[Executioner (comics)|Executioner]], is used by [[Grandmaster (Marvel Comics)|Grandmaster]] to obtain Spider-Man for the contest against [[Collector (comics)|Collector]].\\n* Abomination has a non-voiced appearance in the \\'\\'[[Avengers Assemble (TV series)|Avengers Assemble]]\\'\\' episode \"Seeing Double\".<ref>{{Cite episode\\n | title          = Seeing Double\\n | series         =Avengers Assemble\\n | network        = [[Disney XD]]\\n | date           = August 28, 2016\\n | season         = 3\\n | number         = 14}}</ref> He\\'s shown to be on a rampage until he is subdued by Hulk and [[Black Widow (Natasha Romanoff)|Black Widow]].\\n\\n===Film===\\n[[Image:MovieAbomination.jpg|thumb|200px|The Abomination in \\'\\'[[The Incredible Hulk (film)|The Incredible Hulk]]\\'\\' (2008).]]\\n* Emil Blonsky appears in \\'\\'[[The Incredible Hulk (film)|The Incredible Hulk]]\\'\\', portrayed by [[Tim Roth]], also supplying the [[motion capture]] and voice for Abomination, which is digitally enhanced.<ref>(November 6, 2011), \"[www.behindthevoiceactors.com/voice-compare/Hulk/Abomination/ Voice Compare: Hulk - Abomination],\" Behind the Voice Actors. Retrieved December 20, 2016</ref> In the movie\\'s storyline, Blonsky was a Russian-born British [[Royal Marine]] on loan to [[General Ross]]\\'s HulkBuster Unit. Captain Blonsky wanted to relive his glory days and volunteered to be injected with a sample of the Super Soldier Serum which was frozen for decades. However, it only made Blonsky crave more power as he forces Dr. Samuel Sterns to subject him to Bruce Banner\\'s blood despite being warned of unstable side effects of it mixed with the Super Soldier Serum, saying the resulting mixture would be ‘an Abomination’, though Blonsky is never called by the name. Mutating into the Abomination, he runs amok in New York\\'s Harlem district before being defeated by the Hulk who almost strangles him to death, but is persuaded to spare his life by [[Betty Ross]], and handed over to General Ross.\\n* During an interview in December 2014, Tim Roth revealed that he was offered to reprise his role in \\'\\'[[Avengers: Age of Ultron]]\\'\\', but plans fell through during pre-production.<ref>{{cite web |author=William Bibbiani |url=http://www.craveonline.com/film/interviews/803371-selma-tim-roth-george-wallace-tupac-hulk/3 |title=Selma: Tim Roth on George Wallace, Tupac & The Hulk |publisher=Craveonline |date=2014-12-28 |accessdate=2014-12-28 |archive-url=https://web.archive.org/web/20141229195016/http://www.craveonline.com/film/interviews/803371-selma-tim-roth-george-wallace-tupac-hulk/3 |archive-date=2014-12-29 |url-status=dead }}</ref>\\n* Abomination appears in \\'\\'[[Iron Man & Hulk: Heroes United]]\\'\\',<ref>(December 3, 2013), \"[http://marvel.com/videos/watch/3022 Iron Man & Hulk: Heroes United - Clip 3],\" Marvel. Retrieved December 20, 2016</ref> voiced again by Robin Atkin Downes.{{cn|date=August 2019}}\\n\\n===Video games===\\n* Abomination appears in \\'\\'[[The Incredible Hulk (1994 video game)|The Incredible Hulk]]\\'\\'. He is the [[Boss (video gaming)|boss]] on the first level, and miniboss on all other levels.{{citation needed|date=March 2017}}\\n* Emil Blonsky and the Abomination appear in \\'\\'[[The Incredible Hulk: Ultimate Destruction]]\\'\\', voiced by [[Ron Perlman]].{{citation needed|date=June 2018}} Abomination is featured as the final boss and an unlockable playable character. In the story, Emil Blonsky is an [[NSA]] agent given control with Ross and his bodyguard [[Mercy (comics)|Mercy]] of The Division, a agency dealing with the Hulk and other Gamma-Transformed creatures. His main goal is revealed to be trying to cure his wife Nadia\\'s [[ovarian cancer]] with Banner\\'s research. However, he is infected with a vial of Banner\\'s, which transforms him into the Abomination. During the final battle near the [[Vault (comics)|Vault]], a beaten Abomination destroys the dam, drowning himself with the intent of killing civilians, but is stopped by Hulk.\\n* Emil Blonsky and the Abomination appear in \\'\\'[[The Incredible Hulk (2008 video game)|The Incredible Hulk]]\\'\\', voiced again by Tim Roth. Abomination is featured as the final boss and an unlockable playable character.{{citation needed|date=June 2018}}\\n* Abomination appears as a boss and an unlockable playable character in \\'\\'[[Marvel Super Hero Squad (video game)|Marvel Super Hero Squad]]\\'\\', voiced again by Steve Blum.{{cn|date=August 2019}}\\n* Abomination appears as a boss in \\'\\'[[Marvel Super Hero Squad: The Infinity Gauntlet]]\\'\\', voiced again by Steve Blum.{{cn|date=August 2019}} He is available as an unlockable playable character through the [[PlayStation 3]] and [[Xbox 360]] exclusive [[Downloadable content|DLC]] \"Doom on the Loose\".\\n* Abomination appears as a boss and an unlockable playable character in \\'\\'[[Marvel Super Hero Squad Online]]\\'\\', voiced again by Steve Blum.{{cn|date=August 2019}}\\n* Abomination appears as a boss in \\'\\'[[Marvel Super Hero Squad: Comic Combat]]\\'\\', voiced again by Steve Blum.{{cn|date=August 2019}}\\n* Abomination appears as a boss in \\'\\'Avengers Initiative\\'\\', voiced again by Steve Blum.{{cn|date=August 2019}}\\n* Abomination appears as a boss and an unlockable playable character in \\'\\'[[Lego Marvel Super Heroes]]\\'\\', voiced again by Steve Blum.{{citation needed|date=June 2018}}\\n* Abomination appears as an unlockable playable character in \\'\\'[[Lego Marvel\\'s Avengers]]\\'\\'.{{citation needed|date=March 2017}}\\n* Abomination will appear in \\'\\'[[Avengers (2020 video game)|Avengers]]\\'\\'.<ref>{{cite news |url=https://www.polygon.com/2019/6/11/18661450/square-enix-avengers-game-villain-taskmaster |title=Marvel confirms the identity of the villain in Square Enix’s Avengers game |newspaper=[[Polygon (website)|Polygon]] |date=June 11, 2019 |first=Susana |last=Polo}}</ref>\\n\\n===Toys===\\n* Abomination is featured in the first series of the [[Hulk Classics]] line of action figures from [[Toy Biz]].\\n* Abomination is featured in [[Marvel Legends#Onslaught BAF Series (2006)|Marvel Legends Series 13]].\\n* An action figure based on the character in the 2008 film was released in May 2008.\\n* Abomination appears in the stand-alone Marvel comics expansion of [[Heroscape#Building the scenario|Heroscape]].\\n* In 2010, the Abomination was the 61st figure released in the [[Marvel Select]] line of action figures.\\n\\n==References==\\n{{Reflist}}\\n\\n==External links==\\n*{{Marvelwiki|Abomination|Abomination}}\\n*{{Marveldatabase|Emil Blonsky (Earth-616)|Abomination}}\\n*{{comicbookdb|type=character|id=2974|title=Abomination}}\\n\\n{{Hulk}}\\n{{Stan Lee}}\\n\\n{{DEFAULTSORT:Abomination (Comics)}}\\n[[Category:Characters created by Gil Kane]]\\n[[Category:Characters created by Stan Lee]]\\n[[Category:Comics characters introduced in 1967]]\\n[[Category:Fictional Croatian people]]\\n[[Category:Fictional KGB agents]]\\n[[Category:Fictional Russian people]]\\n[[Category:Fictional Yugoslav people]]\\n[[Category:Fictional secret agents and spies]]\\n[[Category:Marvel Comics characters with superhuman strength]]\\n[[Category:Marvel Comics mutates]]\\n[[Category:Marvel Comics supervillains]]\\n[[Category:Superhero film characters]]'}]}}}"
      ]
     },
     "execution_count": 8,
     "metadata": {},
     "output_type": "execute_result"
    }
   ],
   "source": [
    "test['query']"
   ]
  },
  {
   "cell_type": "markdown",
   "metadata": {},
   "source": [
    "### Part 2: Explore data"
   ]
  },
  {
   "cell_type": "markdown",
   "metadata": {},
   "source": [
    "#### Page lengths"
   ]
  },
  {
   "cell_type": "markdown",
   "metadata": {},
   "source": [
    ">**Ex. 3.2.1**: Extract the length of the page of each character, and plot the distribution of this variable for each class (heroes/villains/ambiguous). Can you say anything about the popularity of characters in the Marvel universe based on your visualization?\n",
    "\n",
    ">*Hint: The simplest thing is to make a probability mass function, i.e. a normalized histogram. Use `plt.hist` on a list of page lengths, with the argument `density=True`. Other distribution plots are fine too, though.*"
   ]
  },
  {
   "cell_type": "markdown",
   "metadata": {},
   "source": [
    ">**Ex. 3.2.2**: Find the 10 characters from each class with the longest Wikipedia pages. Visualize their page lengths with bar charts. Comment on the result."
   ]
  },
  {
   "cell_type": "markdown",
   "metadata": {},
   "source": [
    "#### Timeline"
   ]
  },
  {
   "cell_type": "markdown",
   "metadata": {},
   "source": [
    ">**Ex. 3.2.3**: We are interested in knowing if there is a time-trend in the debut of characters.\n",
    "* Extract into three lists, debut years of heroes, villains, and ambiguous characters.\n",
    "* Do all pages have a debut year? Do some have multiple? How do you handle these inconsistencies?\n",
    "* For each class, visualize the amount of characters introduced over time. You choose how you want to visualize this data, but please comment on your choice. Also comment on the outcome of your analysis.\n",
    "\n",
    ">*Hint: The debut year is given on the debut row in the info table of a character's Wiki-page. There are many ways that you can extract this variable. You should try to have a go at it yourself, but if you are short on time, you can use this horribly ugly regular expression code:*\n",
    "\n",
    ">*`re.findall(r\"\\d{4}\\)\", re.findall(r\"debut.+?\\n\", markup_text)[0])[0][:-1]`*"
   ]
  },
  {
   "cell_type": "markdown",
   "metadata": {},
   "source": [
    "#### Alliances"
   ]
  },
  {
   "cell_type": "markdown",
   "metadata": {},
   "source": [
    ">**Ex. 3.2.4**: In this exercise you want to find out what the biggest alliances in the Marvel universe are. The data you need for doing this is in the *alliances*-field of the markup of each character. Below I suggest steps you can take to solve the problem if you get stuck.\n",
    "* Write a regex that extracts the *alliances*-field of a character's markup.\n",
    "* Write a regex that extracts each team from the *alliance*-field.\n",
    "* Count the number of members for each team (hint: use a `defaultdict`).\n",
    "* Inspect your team names. Are there any that result from inconsistencies in the information on the pages? How do you deal with this?\n",
    "* **Print the 10 largest alliances and their number of members.**"
   ]
  }
 ],
 "metadata": {
  "kernelspec": {
   "display_name": "Python 3",
   "language": "python",
   "name": "python3"
  },
  "language_info": {
   "codemirror_mode": {
    "name": "ipython",
    "version": 3
   },
   "file_extension": ".py",
   "mimetype": "text/x-python",
   "name": "python",
   "nbconvert_exporter": "python",
   "pygments_lexer": "ipython3",
   "version": "3.7.4"
  },
  "nav_menu": {},
  "toc": {
   "base_numbering": 1,
   "nav_menu": {},
   "number_sections": false,
   "sideBar": true,
   "skip_h1_title": false,
   "title_cell": "Table of Contents",
   "title_sidebar": "Contents",
   "toc_cell": false,
   "toc_position": {},
   "toc_section_display": "block",
   "toc_window_display": true
  },
  "varInspector": {
   "cols": {
    "lenName": 16,
    "lenType": 16,
    "lenVar": 40
   },
   "kernels_config": {
    "python": {
     "delete_cmd_postfix": "",
     "delete_cmd_prefix": "del ",
     "library": "var_list.py",
     "varRefreshCmd": "print(var_dic_list())"
    },
    "r": {
     "delete_cmd_postfix": ") ",
     "delete_cmd_prefix": "rm(",
     "library": "var_list.r",
     "varRefreshCmd": "cat(var_dic_list()) "
    }
   },
   "types_to_exclude": [
    "module",
    "function",
    "builtin_function_or_method",
    "instance",
    "_Feature"
   ],
   "window_display": false
  }
 },
 "nbformat": 4,
 "nbformat_minor": 2
}
