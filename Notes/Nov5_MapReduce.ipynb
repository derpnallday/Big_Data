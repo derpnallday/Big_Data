{
 "cells": [
  {
   "cell_type": "markdown",
   "metadata": {},
   "source": [
    "# Map Reduce"
   ]
  },
  {
   "cell_type": "markdown",
   "metadata": {},
   "source": [
    "Used to process and generated big datasets with parallel distributed algorithm on a cluster\n",
    "\n",
    "**Example**\n",
    "\n",
    "Count number of occurrences for each word used on twitter\n",
    "\n",
    "Sequential: Set a Python script to loop over databases and for each word in each document increment the word Counter (SLOW)\n",
    "\n",
    "Parallel: Send python script to multiple databases at a time which loops over words in the document and increments a central counter (can have READ/WRITE ERRORS)\n",
    "\n",
    "**Solution to parallel: Map Reduce**\n",
    "\n",
    "Take input to a mapper\n",
    "\n",
    "Output is a dict containing each word\n",
    "\n",
    "Input to a reducer that groups and condenses non unique keys (also sort keys if they are paired)\n",
    "\n",
    "Sum the length of the list of occurrences in tuple (can also be parallelized)\n",
    "\n",
    "**Summary**\n",
    "1. Map input key-value pairs\n",
    "2. group values by their keys\n",
    "3. Preform an operation on each key's list of values (count, intersection, etc.)"
   ]
  },
  {
   "cell_type": "code",
   "execution_count": null,
   "metadata": {},
   "outputs": [],
   "source": []
  }
 ],
 "metadata": {
  "kernelspec": {
   "display_name": "Python 3",
   "language": "python",
   "name": "python3"
  },
  "language_info": {
   "codemirror_mode": {
    "name": "ipython",
    "version": 3
   },
   "file_extension": ".py",
   "mimetype": "text/x-python",
   "name": "python",
   "nbconvert_exporter": "python",
   "pygments_lexer": "ipython3",
   "version": "3.7.3"
  }
 },
 "nbformat": 4,
 "nbformat_minor": 2
}
