{
 "cells": [
  {
   "cell_type": "markdown",
   "metadata": {},
   "source": [
    "# Getting data - scraping and APIs"
   ]
  },
  {
   "cell_type": "markdown",
   "metadata": {},
   "source": [
    "### The data is already there\n",
    "\n",
    "- company data can give insight into own research questions\n",
    "- market data can inform about trends that you may want to react upon\n",
    "- you can sell it\n",
    "- you can combine multiple sources and get unique insight that no one else has\n",
    "\n",
    "\n",
    "### Three main ways to get existing data\n",
    "1) Get open data from public institutions, researchers or data sharing sites\n",
    "- Geographical data\n",
    "- city data\n",
    "- political data\n",
    "- research data\n",
    "- competition datasets\n",
    "- transactional data\n",
    "\n",
    "2) Request it from someones API. Easy but sometimes has limits\n",
    "\n",
    "\n",
    "\n",
    "\n",
    "\n",
    "3) Forcefully take it by scraping it from a website\n",
    "\n",
    "## API's\n",
    "\n",
    "An easy interface builtin some applications that allow users to easily access its data. Usually limited in scope.\n",
    "\n",
    "## Scraping\n",
    "\n",
    "Some websites have hidden API's that can be found by checking the network connections on a website\n",
    "\n",
    "If this is not possible, scrape the source code and format it."
   ]
  },
  {
   "cell_type": "code",
   "execution_count": null,
   "metadata": {},
   "outputs": [],
   "source": []
  }
 ],
 "metadata": {
  "kernelspec": {
   "display_name": "Python 3",
   "language": "python",
   "name": "python3"
  },
  "language_info": {
   "codemirror_mode": {
    "name": "ipython",
    "version": 3
   },
   "file_extension": ".py",
   "mimetype": "text/x-python",
   "name": "python",
   "nbconvert_exporter": "python",
   "pygments_lexer": "ipython3",
   "version": "3.7.4"
  }
 },
 "nbformat": 4,
 "nbformat_minor": 2
}
