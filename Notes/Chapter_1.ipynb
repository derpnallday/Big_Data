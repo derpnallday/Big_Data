{
 "cells": [
  {
   "cell_type": "markdown",
   "metadata": {},
   "source": [
    "# Chapter 1"
   ]
  },
  {
   "cell_type": "markdown",
   "metadata": {},
   "source": [
    "## What is Data Science\n",
    "Data science is a combination of statistics and computer science. Data scientists are almost indistinguishable from software engineers and sizable amount of them are machine learning experts.\n",
    "In summary, data scientists are people who extract insights from messy data."
   ]
  },
  {
   "cell_type": "markdown",
   "metadata": {},
   "source": [
    "## Finding Key Connectors\n",
    "Lets say you are given a data and you are asked to identify \"key connectors\" among the data.\n",
    "\n",
    "The data consists of a list of users, each with an `id` number and `name`. There is also another dataset consisting of friendship pairings by id number."
   ]
  },
  {
   "cell_type": "code",
   "execution_count": 13,
   "metadata": {},
   "outputs": [],
   "source": [
    "users = [\n",
    "    { \"id\": 0, \"name\": \"Hero\" },\n",
    "    { \"id\": 1, \"name\": \"Dunn\" },\n",
    "    { \"id\": 2, \"name\": \"Sue\" },\n",
    "    { \"id\": 3, \"name\": \"Chi\" },\n",
    "    { \"id\": 4, \"name\": \"Thor\" },\n",
    "    { \"id\": 5, \"name\": \"Clive\" },\n",
    "    { \"id\": 6, \"name\": \"Hicks\" },\n",
    "    { \"id\": 7, \"name\": \"Devin\" },\n",
    "    { \"id\": 8, \"name\": \"Kate\" },\n",
    "    { \"id\": 9, \"name\": \"Klein\" }\n",
    "]\n",
    "\n",
    "friendships = [(0, 1), (0, 2), (1, 2), (1, 3), (2, 3), (3, 4),\n",
    "               (4, 5), (5, 6), (5, 7), (6, 8), (7, 8), (8, 9)]"
   ]
  },
  {
   "cell_type": "markdown",
   "metadata": {},
   "source": [
    "Since these users are represented as `dicts`, its is easy to augment them with new data.\n",
    "\n",
    "If we wanted to add a list of friends for each user, we can first set each user's `friends` property to an empty list:"
   ]
  },
  {
   "cell_type": "code",
   "execution_count": 52,
   "metadata": {},
   "outputs": [
    {
     "name": "stdout",
     "output_type": "stream",
     "text": [
      "{'id': 0, 'name': 'Hero', 'friends': []}\n",
      "{'id': 1, 'name': 'Dunn', 'friends': []}\n",
      "{'id': 2, 'name': 'Sue', 'friends': []}\n",
      "{'id': 3, 'name': 'Chi', 'friends': []}\n",
      "{'id': 4, 'name': 'Thor', 'friends': []}\n",
      "{'id': 5, 'name': 'Clive', 'friends': []}\n",
      "{'id': 6, 'name': 'Hicks', 'friends': []}\n",
      "{'id': 7, 'name': 'Devin', 'friends': []}\n",
      "{'id': 8, 'name': 'Kate', 'friends': []}\n",
      "{'id': 9, 'name': 'Klein', 'friends': []}\n"
     ]
    }
   ],
   "source": [
    "for user in users:\n",
    "    user[\"friends\"] = []\n",
    "    print (user)"
   ]
  },
  {
   "cell_type": "markdown",
   "metadata": {},
   "source": [
    "Now this attribute can be populated using the `frienships` data:"
   ]
  },
  {
   "cell_type": "code",
   "execution_count": 53,
   "metadata": {},
   "outputs": [],
   "source": [
    "for i, j in friendships:\n",
    "    # this works because users[i] is the user whose id is i\n",
    "    users[i][\"friends\"].append(users[j][\"name\"]) # add i as a friend of j\n",
    "    users[j][\"friends\"].append(users[i][\"name\"]) # add j as a friend of i"
   ]
  },
  {
   "cell_type": "code",
   "execution_count": 54,
   "metadata": {},
   "outputs": [
    {
     "name": "stdout",
     "output_type": "stream",
     "text": [
      "{'id': 0, 'name': 'Hero', 'friends': ['Dunn', 'Sue']}\n",
      "{'id': 1, 'name': 'Dunn', 'friends': ['Hero', 'Sue', 'Chi']}\n",
      "{'id': 2, 'name': 'Sue', 'friends': ['Hero', 'Dunn', 'Chi']}\n",
      "{'id': 3, 'name': 'Chi', 'friends': ['Dunn', 'Sue', 'Thor']}\n",
      "{'id': 4, 'name': 'Thor', 'friends': ['Chi', 'Clive']}\n",
      "{'id': 5, 'name': 'Clive', 'friends': ['Thor', 'Hicks', 'Devin']}\n",
      "{'id': 6, 'name': 'Hicks', 'friends': ['Clive', 'Kate']}\n",
      "{'id': 7, 'name': 'Devin', 'friends': ['Clive', 'Kate']}\n",
      "{'id': 8, 'name': 'Kate', 'friends': ['Hicks', 'Devin', 'Klein']}\n",
      "{'id': 9, 'name': 'Klein', 'friends': ['Kate']}\n"
     ]
    }
   ],
   "source": [
    "for user in users:\n",
    "    print(user)"
   ]
  },
  {
   "cell_type": "markdown",
   "metadata": {},
   "source": [
    "With each `user dict` containing their respective list of friends, we can extrapolate more data of the graph relating to the friendship connections.\n",
    "\n",
    "First find the total number of connections by summing up the lengths of all the `friends` lists:"
   ]
  },
  {
   "cell_type": "code",
   "execution_count": 67,
   "metadata": {},
   "outputs": [
    {
     "name": "stdout",
     "output_type": "stream",
     "text": [
      "24\n"
     ]
    }
   ],
   "source": [
    "def number_of_friends(id):\n",
    "    \"\"\"how many friends does _user_ have?\"\"\"\n",
    "    return len(users[id]['friends']) # length of friend_ids list\n",
    "\n",
    "total_connections = sum(number_of_friends(i) for i,user in enumerate(users)) # 24\n",
    "print(total_connections)"
   ]
  },
  {
   "cell_type": "code",
   "execution_count": 79,
   "metadata": {},
   "outputs": [
    {
     "name": "stdout",
     "output_type": "stream",
     "text": [
      "2\n",
      "3\n",
      "3\n",
      "3\n",
      "2\n",
      "3\n",
      "2\n",
      "2\n",
      "3\n",
      "1\n"
     ]
    }
   ],
   "source": [
    "for i, user in enumerate(users):\n",
    "    print(number_of_friends(i))"
   ]
  },
  {
   "cell_type": "markdown",
   "metadata": {},
   "source": [
    "Divide by number of users to find the average connections:"
   ]
  },
  {
   "cell_type": "code",
   "execution_count": 65,
   "metadata": {},
   "outputs": [],
   "source": [
    "from __future__ import division # integer division is lame\n",
    "num_users = len(users) # length of the users list\n",
    "avg_connections = total_connections / num_users # 2.4"
   ]
  },
  {
   "cell_type": "code",
   "execution_count": 66,
   "metadata": {},
   "outputs": [
    {
     "name": "stdout",
     "output_type": "stream",
     "text": [
      "10\n",
      "2.4\n"
     ]
    }
   ],
   "source": [
    "print(num_users)\n",
    "print(avg_connections)"
   ]
  },
  {
   "cell_type": "markdown",
   "metadata": {},
   "source": [
    "Another useful statistic is to find the most connected people (i.e. largest number of friends). Because the dataset is small,it can be sorted by \"most friends\" to \"least friends\":"
   ]
  },
  {
   "cell_type": "code",
   "execution_count": 71,
   "metadata": {},
   "outputs": [],
   "source": [
    "# create a list (user_id, number_of_friends)\n",
    "num_friends_by_id = [(user[\"id\"], number_of_friends(i))\n",
    "                     for i,user in enumerate(users)]\n",
    "\n",
    "#sorted(num_friends_by_id, # get it sorted\n",
    " #      key=lambda (user_id, num_friends): num_friends, # by num_friends\n",
    "  #     reverse=True) # largest to smallest\n",
    "\n",
    "\n",
    "# each pair is (user_id, num_friends)\n",
    "# [(1, 3), (2, 3), (3, 3), (5, 3), (8, 3),\n",
    "# (0, 2), (4, 2), (6, 2), (7, 2), (9, 1)]"
   ]
  },
  {
   "cell_type": "code",
   "execution_count": 72,
   "metadata": {},
   "outputs": [
    {
     "name": "stdout",
     "output_type": "stream",
     "text": [
      "[(0, 2), (1, 3), (2, 3), (3, 3), (4, 2), (5, 3), (6, 2), (7, 2), (8, 3), (9, 1)]\n"
     ]
    }
   ],
   "source": [
    "print(num_friends_by_id)"
   ]
  },
  {
   "cell_type": "code",
   "execution_count": null,
   "metadata": {},
   "outputs": [],
   "source": []
  }
 ],
 "metadata": {
  "kernelspec": {
   "display_name": "Python 3",
   "language": "python",
   "name": "python3"
  },
  "language_info": {
   "codemirror_mode": {
    "name": "ipython",
    "version": 3
   },
   "file_extension": ".py",
   "mimetype": "text/x-python",
   "name": "python",
   "nbconvert_exporter": "python",
   "pygments_lexer": "ipython3",
   "version": "3.7.4"
  }
 },
 "nbformat": 4,
 "nbformat_minor": 2
}
