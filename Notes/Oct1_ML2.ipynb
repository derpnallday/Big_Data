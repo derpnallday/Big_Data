{
 "cells": [
  {
   "cell_type": "markdown",
   "metadata": {},
   "source": [
    "# Decision trees\n",
    "\n",
    "split data based on a set of questions\n",
    "\n",
    "**entropy**\n",
    "> The entropy can be written as\n",
    "> $$ \\text{shanon entropy }H(X)=- \\sum^n_{i=1}P(x_i)\\log_b P(x_i)$$\n",
    "> where $b$ is the base of the logarithm used (ie. 2, $e$, 10)\n",
    ">\n",
    "> input: probability vector (a list of values between 0 and 1 which sums to 1)\n",
    ">\n",
    "> output: entropy (the randomness of the result)\n",
    ">\n",
    "> this can be used in the construction of decision trees to score whether a question is good as it tells how it splits the data (low entropy is good)\n",
    ">\n",
    "> ex. p = [1,0]\n",
    "> $$ \\text{ Entropy } = -(1 * log_2(1) +0 * log_2(0)) = 0 $$\n",
    ">\n",
    "\n",
    "**ensemble learning**\n",
    "- create and train many classification models\n",
    "- create each model as a \"voter\"\n",
    "- for each datapoint, classify it according to what nideks oreducts ut ti be"
   ]
  },
  {
   "cell_type": "markdown",
   "metadata": {},
   "source": [
    "# Log regression\n",
    "\n",
    "based on the linear regression equation below\n",
    "$$w_0 + x_0w_1 + x_1w_2 + x_2w_3 = f(x)$$\n",
    "\n",
    "From this use a sigmoid function from the output to squeeze the value between 0-1. This value can be interpreted as a probability.\n"
   ]
  },
  {
   "cell_type": "code",
   "execution_count": null,
   "metadata": {},
   "outputs": [],
   "source": []
  }
 ],
 "metadata": {
  "kernelspec": {
   "display_name": "Python 3",
   "language": "python",
   "name": "python3"
  },
  "language_info": {
   "codemirror_mode": {
    "name": "ipython",
    "version": 3
   },
   "file_extension": ".py",
   "mimetype": "text/x-python",
   "name": "python",
   "nbconvert_exporter": "python",
   "pygments_lexer": "ipython3",
   "version": "3.7.4"
  }
 },
 "nbformat": 4,
 "nbformat_minor": 2
}
