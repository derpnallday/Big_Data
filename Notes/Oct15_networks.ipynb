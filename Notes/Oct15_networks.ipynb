{
 "cells": [
  {
   "cell_type": "markdown",
   "metadata": {},
   "source": [
    "# Networks"
   ]
  },
  {
   "cell_type": "markdown",
   "metadata": {},
   "source": [
    "**What are networks?**\n",
    "- an approach\n",
    "- a mathematical representation\n",
    "- provide structure to complexity\n",
    "- modeling systems both at individual scale and population scale\n",
    "\n",
    "**What is a vertex?**\n",
    "\n",
    "$V$: an component/node in a system\n",
    "\n",
    "\n",
    "**What is an edge?**\n",
    "\n",
    "$E \\subseteq V \\times V$ : a pairwise relation (edges/links/ties)\n",
    "\n",
    "EX. network: a computer network\n",
    "- each computer is a vertex\n",
    "- each edge is a connection from computer to server\n",
    "\n",
    "Edges can have labels, Ex. Social network:\n",
    "- each person is a vertex\n",
    "- each edge is a relationship between a person, each edge can be categorized as friendship, sexual contact, coworkers, etc.\n",
    "\n"
   ]
  },
  {
   "cell_type": "markdown",
   "metadata": {},
   "source": [
    "## Representing networks\n",
    "4 main classes of networks:\n",
    "1. simple networks\n",
    "   - undirected, unweighted, no self loops\n",
    "   - represented with adjacency matrix or adjacency list\n",
    "  \n",
    "  \n",
    "2. directed and weighted networks\n",
    "    - edges have a direction\n",
    "    - nodes have an associated weight\n",
    "    - adjacency matrix, list can have multiple values at each index\n",
    "    - also holds the weights of node in each index\n",
    "    - there are 2 different classes of directed networks\n",
    "        1. general directed networks\n",
    "            - flow of goods and information\n",
    "            - payments\n",
    "            - dominance\n",
    "        2. directed acyclic networks\n",
    "            - citation networks\n",
    "            - family trees\n",
    "\n",
    "\n",
    "3. bipartite networks\n",
    "    - has two different nodes that only interact with opposite type nodes\n",
    "    - ex. authors and papers, people and locations, words and documents, people and online groups\n",
    "    \n",
    "    \n",
    "4. temporal networks\n",
    "    - links change and are dependent on time\n",
    "    - almost all networks in reality are temporal"
   ]
  },
  {
   "cell_type": "markdown",
   "metadata": {},
   "source": [
    "## Describing networks\n",
    "What does a network look like?\n",
    "\n",
    "Questions:\n",
    "- how are edges organized\n",
    "- how do vertices differ\n",
    "- do locations in network matter\n",
    "\n",
    "First step: Describe its features\n",
    "- Degree distribution\n",
    "- short-loop density (triangles, etc.)\n",
    "- shortest paths (diameter, etc.)\n",
    "- vertex positions (centrality, etc.)\n",
    "\n",
    "Second step: understand the system\n",
    "- Correlations between features\n",
    "- correlations between features and other variables\n",
    "- testing network structure against null models\n",
    "- finding clusters and other mesoscale structures\n",
    "\n",
    "**Degree**: \n",
    "number of connections $k$\n",
    "$$k_i = \\sum_j A_{ij}$$\n",
    "degree sequence : list \n",
    "\n",
    "degree distribution : probability node will have a certain degree\n"
   ]
  },
  {
   "cell_type": "code",
   "execution_count": null,
   "metadata": {},
   "outputs": [],
   "source": []
  }
 ],
 "metadata": {
  "kernelspec": {
   "display_name": "Python 3",
   "language": "python",
   "name": "python3"
  },
  "language_info": {
   "codemirror_mode": {
    "name": "ipython",
    "version": 3
   },
   "file_extension": ".py",
   "mimetype": "text/x-python",
   "name": "python",
   "nbconvert_exporter": "python",
   "pygments_lexer": "ipython3",
   "version": "3.7.4"
  }
 },
 "nbformat": 4,
 "nbformat_minor": 2
}
