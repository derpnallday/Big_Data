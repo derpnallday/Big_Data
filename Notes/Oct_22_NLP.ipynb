{
 "cells": [
  {
   "cell_type": "markdown",
   "metadata": {},
   "source": [
    "# Natural Language Processing"
   ]
  },
  {
   "cell_type": "markdown",
   "metadata": {},
   "source": [
    "**Initial Approach**\n",
    "\n",
    "extract markup from text\n",
    "\n",
    "do encoding:\n",
    "- character-level encoding (1-hot encoding for each character)\n",
    "- word-level encoding (1-hot encoding for each word, but very long vectors)\n",
    "- Bag of Symbols (how many times a symbol or character appears)\n",
    "- Bag of Words (how may times a word appears)\n",
    "- Corpus: a collection of documents represented as a 2d array list or vectors, contains bag of words matrix here is row is a document and column is word\n",
    "\n",
    "**Algorithm**\n",
    "1. have a document\n",
    "2. count frequency of words (e.g. using BOW)\n",
    "3. Print the words with sizes relative to their frequency\n",
    "4. Put larger words in center and smaller words in periphery\n",
    "5. run and let it do its magic\n",
    "\n",
    "**Term frequency - inverse document frequency**\n",
    "1. have BOW representation of document\n",
    "2. TF-step: Normalize word frequency in each document (so rows sum to )\n",
    "3. IDF-step: estimate the document frequency of each word (in what fraction of document e.g. 'western' occurs) and divide each column element with this value\n",
    "4. You now have a matrix, where a (document word) index value explains how important a given word is to that document"
   ]
  },
  {
   "cell_type": "code",
   "execution_count": null,
   "metadata": {},
   "outputs": [],
   "source": []
  }
 ],
 "metadata": {
  "kernelspec": {
   "display_name": "Python 3",
   "language": "python",
   "name": "python3"
  },
  "language_info": {
   "codemirror_mode": {
    "name": "ipython",
    "version": 3
   },
   "file_extension": ".py",
   "mimetype": "text/x-python",
   "name": "python",
   "nbconvert_exporter": "python",
   "pygments_lexer": "ipython3",
   "version": "3.7.3"
  }
 },
 "nbformat": 4,
 "nbformat_minor": 2
}
