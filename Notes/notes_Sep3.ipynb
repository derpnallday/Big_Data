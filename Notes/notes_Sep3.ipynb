{
 "cells": [
  {
   "cell_type": "markdown",
   "metadata": {},
   "source": [
    "## Data Visualization\n",
    "Most raw data is incomprehensible to humans\n",
    "- Narrow spectrum of data that we can process and understand\n",
    "- limited memory for processing new information\n",
    "- limited attention for undertaking focused tasks\n",
    "\n",
    "However humans are good at advanced pattern recognition (visual)\n",
    "- immediately recognize patterns in highly complex images\n",
    "- notice outliers\n",
    "- process streams of images and recognize patterns over time\n",
    "\n",
    "\n",
    "Data must be rendered in human-friendly format\n",
    "- can play around with different graphical formats in order to find some discernable pattern (ex. bar graphs, line plots, heat maps)\n",
    "\n",
    "Relational data\n",
    "- easily plotted as a network\n",
    "\n",
    "Data visualization breaks down to simple things for:\n",
    "- understanding how data is distributed (histograms, kernel density plots, box/violin plots, heatmaps)\n",
    "- understanding how variables in data relate and develop (scatter, pairs, time series, line, bar plots)\n",
    "- understanding complex stricture in interconnected data (networks)\n",
    "\n",
    "## Linear Algebra\n",
    "#### Tools for manipulating tabular data\n",
    "**objects**\n",
    "- scalars\n",
    "- vectors\n",
    "- matrices \n",
    "> everything is a tensor. A 0 dimension tensor is just a scalar, 1 dimension is a vector, 2 is a matrix\n",
    "\n",
    "**Operations**\n",
    "- Products: dot, cross\n",
    "- Element wise: add, subtract, multiplication, division\n",
    "- Mutations: transpose, inverse/pseudo-inverse, scaling, rotation\n",
    "\n",
    "**Tools**\n",
    "- Principal component analysis (PCA): in which direction does the data have the most variance\n",
    "- Archetypal Analysis: finding the extreme boundaries of a dataset (not necessarily outliers)\n",
    "- Non-negative matrix factorization: a way to decompose single data points into multiple data points (ex. decompose images of faces into multiple face parts)\n",
    "- many more...\n",
    "\n",
    "## Statistics\n",
    "#### Framework for describing data\n",
    "**Vocabulary**\n",
    "- Mean, median\n",
    "- variance, standard deviation, range\n",
    "- correlation, covariance\n",
    "\n"
   ]
  },
  {
   "cell_type": "code",
   "execution_count": null,
   "metadata": {},
   "outputs": [],
   "source": []
  }
 ],
 "metadata": {
  "kernelspec": {
   "display_name": "Python 3",
   "language": "python",
   "name": "python3"
  },
  "language_info": {
   "codemirror_mode": {
    "name": "ipython",
    "version": 3
   },
   "file_extension": ".py",
   "mimetype": "text/x-python",
   "name": "python",
   "nbconvert_exporter": "python",
   "pygments_lexer": "ipython3",
   "version": "3.7.4"
  }
 },
 "nbformat": 4,
 "nbformat_minor": 2
}
